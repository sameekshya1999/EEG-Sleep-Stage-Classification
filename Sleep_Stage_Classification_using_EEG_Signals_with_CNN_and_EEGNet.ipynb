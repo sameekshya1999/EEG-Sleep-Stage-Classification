{
  "nbformat": 4,
  "nbformat_minor": 0,
  "metadata": {
    "colab": {
      "provenance": [],
      "gpuType": "T4",
      "authorship_tag": "ABX9TyO0pIbvmeUT707QsocKDVOR",
      "include_colab_link": true
    },
    "kernelspec": {
      "name": "python3",
      "display_name": "Python 3"
    },
    "language_info": {
      "name": "python"
    },
    "accelerator": "GPU"
  },
  "cells": [
    {
      "cell_type": "markdown",
      "metadata": {
        "id": "view-in-github",
        "colab_type": "text"
      },
      "source": [
        "<a href=\"https://colab.research.google.com/github/sameekshya1999/EEG-Sleep-Stage-Classification/blob/main/Sleep_Stage_Classification_using_EEG_Signals_with_CNN_and_EEGNet.ipynb\" target=\"_parent\"><img src=\"https://colab.research.google.com/assets/colab-badge.svg\" alt=\"Open In Colab\"/></a>"
      ]
    },
    {
      "cell_type": "code",
      "execution_count": null,
      "metadata": {
        "colab": {
          "base_uri": "https://localhost:8080/"
        },
        "id": "KG9Ppn2A2aUn",
        "outputId": "b2359949-6552-471e-fd08-9eae1b8cb2dc"
      },
      "outputs": [
        {
          "output_type": "stream",
          "name": "stdout",
          "text": [
            "Collecting mne\n",
            "  Downloading mne-1.9.0-py3-none-any.whl.metadata (20 kB)\n",
            "Requirement already satisfied: decorator in /usr/local/lib/python3.11/dist-packages (from mne) (4.4.2)\n",
            "Requirement already satisfied: jinja2 in /usr/local/lib/python3.11/dist-packages (from mne) (3.1.6)\n",
            "Requirement already satisfied: lazy-loader>=0.3 in /usr/local/lib/python3.11/dist-packages (from mne) (0.4)\n",
            "Requirement already satisfied: matplotlib>=3.6 in /usr/local/lib/python3.11/dist-packages (from mne) (3.10.0)\n",
            "Requirement already satisfied: numpy<3,>=1.23 in /usr/local/lib/python3.11/dist-packages (from mne) (2.0.2)\n",
            "Requirement already satisfied: packaging in /usr/local/lib/python3.11/dist-packages (from mne) (24.2)\n",
            "Requirement already satisfied: pooch>=1.5 in /usr/local/lib/python3.11/dist-packages (from mne) (1.8.2)\n",
            "Requirement already satisfied: scipy>=1.9 in /usr/local/lib/python3.11/dist-packages (from mne) (1.15.2)\n",
            "Requirement already satisfied: tqdm in /usr/local/lib/python3.11/dist-packages (from mne) (4.67.1)\n",
            "Requirement already satisfied: contourpy>=1.0.1 in /usr/local/lib/python3.11/dist-packages (from matplotlib>=3.6->mne) (1.3.2)\n",
            "Requirement already satisfied: cycler>=0.10 in /usr/local/lib/python3.11/dist-packages (from matplotlib>=3.6->mne) (0.12.1)\n",
            "Requirement already satisfied: fonttools>=4.22.0 in /usr/local/lib/python3.11/dist-packages (from matplotlib>=3.6->mne) (4.57.0)\n",
            "Requirement already satisfied: kiwisolver>=1.3.1 in /usr/local/lib/python3.11/dist-packages (from matplotlib>=3.6->mne) (1.4.8)\n",
            "Requirement already satisfied: pillow>=8 in /usr/local/lib/python3.11/dist-packages (from matplotlib>=3.6->mne) (11.2.1)\n",
            "Requirement already satisfied: pyparsing>=2.3.1 in /usr/local/lib/python3.11/dist-packages (from matplotlib>=3.6->mne) (3.2.3)\n",
            "Requirement already satisfied: python-dateutil>=2.7 in /usr/local/lib/python3.11/dist-packages (from matplotlib>=3.6->mne) (2.9.0.post0)\n",
            "Requirement already satisfied: platformdirs>=2.5.0 in /usr/local/lib/python3.11/dist-packages (from pooch>=1.5->mne) (4.3.7)\n",
            "Requirement already satisfied: requests>=2.19.0 in /usr/local/lib/python3.11/dist-packages (from pooch>=1.5->mne) (2.32.3)\n",
            "Requirement already satisfied: MarkupSafe>=2.0 in /usr/local/lib/python3.11/dist-packages (from jinja2->mne) (3.0.2)\n",
            "Requirement already satisfied: six>=1.5 in /usr/local/lib/python3.11/dist-packages (from python-dateutil>=2.7->matplotlib>=3.6->mne) (1.17.0)\n",
            "Requirement already satisfied: charset-normalizer<4,>=2 in /usr/local/lib/python3.11/dist-packages (from requests>=2.19.0->pooch>=1.5->mne) (3.4.1)\n",
            "Requirement already satisfied: idna<4,>=2.5 in /usr/local/lib/python3.11/dist-packages (from requests>=2.19.0->pooch>=1.5->mne) (3.10)\n",
            "Requirement already satisfied: urllib3<3,>=1.21.1 in /usr/local/lib/python3.11/dist-packages (from requests>=2.19.0->pooch>=1.5->mne) (2.4.0)\n",
            "Requirement already satisfied: certifi>=2017.4.17 in /usr/local/lib/python3.11/dist-packages (from requests>=2.19.0->pooch>=1.5->mne) (2025.4.26)\n",
            "Downloading mne-1.9.0-py3-none-any.whl (7.4 MB)\n",
            "\u001b[2K   \u001b[90m━━━━━━━━━━━━━━━━━━━━━━━━━━━━━━━━━━━━━━━━\u001b[0m \u001b[32m7.4/7.4 MB\u001b[0m \u001b[31m22.2 MB/s\u001b[0m eta \u001b[36m0:00:00\u001b[0m\n",
            "\u001b[?25hInstalling collected packages: mne\n",
            "Successfully installed mne-1.9.0\n",
            "Requirement already satisfied: scikit-learn in /usr/local/lib/python3.11/dist-packages (1.6.1)\n",
            "Requirement already satisfied: numpy>=1.19.5 in /usr/local/lib/python3.11/dist-packages (from scikit-learn) (2.0.2)\n",
            "Requirement already satisfied: scipy>=1.6.0 in /usr/local/lib/python3.11/dist-packages (from scikit-learn) (1.15.2)\n",
            "Requirement already satisfied: joblib>=1.2.0 in /usr/local/lib/python3.11/dist-packages (from scikit-learn) (1.4.2)\n",
            "Requirement already satisfied: threadpoolctl>=3.1.0 in /usr/local/lib/python3.11/dist-packages (from scikit-learn) (3.6.0)\n",
            "Requirement already satisfied: seaborn in /usr/local/lib/python3.11/dist-packages (0.13.2)\n",
            "Requirement already satisfied: numpy!=1.24.0,>=1.20 in /usr/local/lib/python3.11/dist-packages (from seaborn) (2.0.2)\n",
            "Requirement already satisfied: pandas>=1.2 in /usr/local/lib/python3.11/dist-packages (from seaborn) (2.2.2)\n",
            "Requirement already satisfied: matplotlib!=3.6.1,>=3.4 in /usr/local/lib/python3.11/dist-packages (from seaborn) (3.10.0)\n",
            "Requirement already satisfied: contourpy>=1.0.1 in /usr/local/lib/python3.11/dist-packages (from matplotlib!=3.6.1,>=3.4->seaborn) (1.3.2)\n",
            "Requirement already satisfied: cycler>=0.10 in /usr/local/lib/python3.11/dist-packages (from matplotlib!=3.6.1,>=3.4->seaborn) (0.12.1)\n",
            "Requirement already satisfied: fonttools>=4.22.0 in /usr/local/lib/python3.11/dist-packages (from matplotlib!=3.6.1,>=3.4->seaborn) (4.57.0)\n",
            "Requirement already satisfied: kiwisolver>=1.3.1 in /usr/local/lib/python3.11/dist-packages (from matplotlib!=3.6.1,>=3.4->seaborn) (1.4.8)\n",
            "Requirement already satisfied: packaging>=20.0 in /usr/local/lib/python3.11/dist-packages (from matplotlib!=3.6.1,>=3.4->seaborn) (24.2)\n",
            "Requirement already satisfied: pillow>=8 in /usr/local/lib/python3.11/dist-packages (from matplotlib!=3.6.1,>=3.4->seaborn) (11.2.1)\n",
            "Requirement already satisfied: pyparsing>=2.3.1 in /usr/local/lib/python3.11/dist-packages (from matplotlib!=3.6.1,>=3.4->seaborn) (3.2.3)\n",
            "Requirement already satisfied: python-dateutil>=2.7 in /usr/local/lib/python3.11/dist-packages (from matplotlib!=3.6.1,>=3.4->seaborn) (2.9.0.post0)\n",
            "Requirement already satisfied: pytz>=2020.1 in /usr/local/lib/python3.11/dist-packages (from pandas>=1.2->seaborn) (2025.2)\n",
            "Requirement already satisfied: tzdata>=2022.7 in /usr/local/lib/python3.11/dist-packages (from pandas>=1.2->seaborn) (2025.2)\n",
            "Requirement already satisfied: six>=1.5 in /usr/local/lib/python3.11/dist-packages (from python-dateutil>=2.7->matplotlib!=3.6.1,>=3.4->seaborn) (1.17.0)\n",
            "Requirement already satisfied: tqdm in /usr/local/lib/python3.11/dist-packages (4.67.1)\n",
            "Requirement already satisfied: matplotlib in /usr/local/lib/python3.11/dist-packages (3.10.0)\n",
            "Requirement already satisfied: tensorflow in /usr/local/lib/python3.11/dist-packages (2.18.0)\n",
            "Requirement already satisfied: contourpy>=1.0.1 in /usr/local/lib/python3.11/dist-packages (from matplotlib) (1.3.2)\n",
            "Requirement already satisfied: cycler>=0.10 in /usr/local/lib/python3.11/dist-packages (from matplotlib) (0.12.1)\n",
            "Requirement already satisfied: fonttools>=4.22.0 in /usr/local/lib/python3.11/dist-packages (from matplotlib) (4.57.0)\n",
            "Requirement already satisfied: kiwisolver>=1.3.1 in /usr/local/lib/python3.11/dist-packages (from matplotlib) (1.4.8)\n",
            "Requirement already satisfied: numpy>=1.23 in /usr/local/lib/python3.11/dist-packages (from matplotlib) (2.0.2)\n",
            "Requirement already satisfied: packaging>=20.0 in /usr/local/lib/python3.11/dist-packages (from matplotlib) (24.2)\n",
            "Requirement already satisfied: pillow>=8 in /usr/local/lib/python3.11/dist-packages (from matplotlib) (11.2.1)\n",
            "Requirement already satisfied: pyparsing>=2.3.1 in /usr/local/lib/python3.11/dist-packages (from matplotlib) (3.2.3)\n",
            "Requirement already satisfied: python-dateutil>=2.7 in /usr/local/lib/python3.11/dist-packages (from matplotlib) (2.9.0.post0)\n",
            "Requirement already satisfied: absl-py>=1.0.0 in /usr/local/lib/python3.11/dist-packages (from tensorflow) (1.4.0)\n",
            "Requirement already satisfied: astunparse>=1.6.0 in /usr/local/lib/python3.11/dist-packages (from tensorflow) (1.6.3)\n",
            "Requirement already satisfied: flatbuffers>=24.3.25 in /usr/local/lib/python3.11/dist-packages (from tensorflow) (25.2.10)\n",
            "Requirement already satisfied: gast!=0.5.0,!=0.5.1,!=0.5.2,>=0.2.1 in /usr/local/lib/python3.11/dist-packages (from tensorflow) (0.6.0)\n",
            "Requirement already satisfied: google-pasta>=0.1.1 in /usr/local/lib/python3.11/dist-packages (from tensorflow) (0.2.0)\n",
            "Requirement already satisfied: libclang>=13.0.0 in /usr/local/lib/python3.11/dist-packages (from tensorflow) (18.1.1)\n",
            "Requirement already satisfied: opt-einsum>=2.3.2 in /usr/local/lib/python3.11/dist-packages (from tensorflow) (3.4.0)\n",
            "Requirement already satisfied: protobuf!=4.21.0,!=4.21.1,!=4.21.2,!=4.21.3,!=4.21.4,!=4.21.5,<6.0.0dev,>=3.20.3 in /usr/local/lib/python3.11/dist-packages (from tensorflow) (5.29.4)\n",
            "Requirement already satisfied: requests<3,>=2.21.0 in /usr/local/lib/python3.11/dist-packages (from tensorflow) (2.32.3)\n",
            "Requirement already satisfied: setuptools in /usr/local/lib/python3.11/dist-packages (from tensorflow) (75.2.0)\n",
            "Requirement already satisfied: six>=1.12.0 in /usr/local/lib/python3.11/dist-packages (from tensorflow) (1.17.0)\n",
            "Requirement already satisfied: termcolor>=1.1.0 in /usr/local/lib/python3.11/dist-packages (from tensorflow) (3.1.0)\n",
            "Requirement already satisfied: typing-extensions>=3.6.6 in /usr/local/lib/python3.11/dist-packages (from tensorflow) (4.13.2)\n",
            "Requirement already satisfied: wrapt>=1.11.0 in /usr/local/lib/python3.11/dist-packages (from tensorflow) (1.17.2)\n",
            "Requirement already satisfied: grpcio<2.0,>=1.24.3 in /usr/local/lib/python3.11/dist-packages (from tensorflow) (1.71.0)\n",
            "Requirement already satisfied: tensorboard<2.19,>=2.18 in /usr/local/lib/python3.11/dist-packages (from tensorflow) (2.18.0)\n",
            "Requirement already satisfied: keras>=3.5.0 in /usr/local/lib/python3.11/dist-packages (from tensorflow) (3.8.0)\n",
            "Requirement already satisfied: h5py>=3.11.0 in /usr/local/lib/python3.11/dist-packages (from tensorflow) (3.13.0)\n",
            "Requirement already satisfied: ml-dtypes<0.5.0,>=0.4.0 in /usr/local/lib/python3.11/dist-packages (from tensorflow) (0.4.1)\n",
            "Requirement already satisfied: tensorflow-io-gcs-filesystem>=0.23.1 in /usr/local/lib/python3.11/dist-packages (from tensorflow) (0.37.1)\n",
            "Requirement already satisfied: wheel<1.0,>=0.23.0 in /usr/local/lib/python3.11/dist-packages (from astunparse>=1.6.0->tensorflow) (0.45.1)\n",
            "Requirement already satisfied: rich in /usr/local/lib/python3.11/dist-packages (from keras>=3.5.0->tensorflow) (13.9.4)\n",
            "Requirement already satisfied: namex in /usr/local/lib/python3.11/dist-packages (from keras>=3.5.0->tensorflow) (0.0.9)\n",
            "Requirement already satisfied: optree in /usr/local/lib/python3.11/dist-packages (from keras>=3.5.0->tensorflow) (0.15.0)\n",
            "Requirement already satisfied: charset-normalizer<4,>=2 in /usr/local/lib/python3.11/dist-packages (from requests<3,>=2.21.0->tensorflow) (3.4.1)\n",
            "Requirement already satisfied: idna<4,>=2.5 in /usr/local/lib/python3.11/dist-packages (from requests<3,>=2.21.0->tensorflow) (3.10)\n",
            "Requirement already satisfied: urllib3<3,>=1.21.1 in /usr/local/lib/python3.11/dist-packages (from requests<3,>=2.21.0->tensorflow) (2.4.0)\n",
            "Requirement already satisfied: certifi>=2017.4.17 in /usr/local/lib/python3.11/dist-packages (from requests<3,>=2.21.0->tensorflow) (2025.4.26)\n",
            "Requirement already satisfied: markdown>=2.6.8 in /usr/local/lib/python3.11/dist-packages (from tensorboard<2.19,>=2.18->tensorflow) (3.8)\n",
            "Requirement already satisfied: tensorboard-data-server<0.8.0,>=0.7.0 in /usr/local/lib/python3.11/dist-packages (from tensorboard<2.19,>=2.18->tensorflow) (0.7.2)\n",
            "Requirement already satisfied: werkzeug>=1.0.1 in /usr/local/lib/python3.11/dist-packages (from tensorboard<2.19,>=2.18->tensorflow) (3.1.3)\n",
            "Requirement already satisfied: MarkupSafe>=2.1.1 in /usr/local/lib/python3.11/dist-packages (from werkzeug>=1.0.1->tensorboard<2.19,>=2.18->tensorflow) (3.0.2)\n",
            "Requirement already satisfied: markdown-it-py>=2.2.0 in /usr/local/lib/python3.11/dist-packages (from rich->keras>=3.5.0->tensorflow) (3.0.0)\n",
            "Requirement already satisfied: pygments<3.0.0,>=2.13.0 in /usr/local/lib/python3.11/dist-packages (from rich->keras>=3.5.0->tensorflow) (2.19.1)\n",
            "Requirement already satisfied: mdurl~=0.1 in /usr/local/lib/python3.11/dist-packages (from markdown-it-py>=2.2.0->rich->keras>=3.5.0->tensorflow) (0.1.2)\n"
          ]
        }
      ],
      "source": [
        "!pip install mne\n",
        "!pip install scikit-learn\n",
        "!pip install seaborn\n",
        "!pip install tqdm\n",
        "!pip install matplotlib tensorflow\n",
        "\n"
      ]
    },
    {
      "cell_type": "markdown",
      "source": [
        "# 🧠 Sleep Stage Classification using EEG Signals with CNN\n",
        "\n",
        "This project implements a deep learning pipeline to classify sleep stages based on EEG data from the **Sleep-EDF dataset**. The pipeline includes:\n",
        "\n",
        "- ✅ Automatic data download and preprocessing using MNE\n",
        "- ✅ Epoching and normalization of EEG signals (Fpz-Cz, Pz-Oz channels)\n",
        "- ✅ Label alignment using standard AASM sleep stages: **Wake, N1, N2, N3, REM**\n",
        "- ✅ A **Convolutional Neural Network (CNN)** architecture built with TensorFlow/Keras\n",
        "- ✅ Class distribution statistics, training history, and performance evaluation\n",
        "- ✅ Output metrics: **Accuracy, Classification Report, Confusion Matrix**\n",
        "\n",
        "### 🔬 Dataset:\n",
        "- Source: [Sleep-EDF Database](https://physionet.org/content/sleep-edfx/1.0.0/)\n",
        "- Type: Polysomnography (PSG) recordings from healthy adults\n",
        "- Channels used: `EEG Fpz-Cz` and `EEG Pz-Oz`\n",
        "\n",
        "### 📊 Evaluation:\n",
        "- Stratified Train/Test Split (80/20)\n",
        "- Final metrics include per-class precision, recall, and F1-score\n",
        "\n",
        "---\n",
        "\n",
        "**Author:** Samiksha BC  \n",
        "**Project:** Master's Final Project – EEG-based Sleep Stage Classification  \n",
        "**University:** Indiana University South Bend\n"
      ],
      "metadata": {
        "id": "KHPcsvVebFYd"
      }
    },
    {
      "cell_type": "code",
      "source": [
        "import numpy as np\n",
        "import tensorflow as tf\n",
        "from tensorflow.keras import layers, models\n",
        "import mne\n",
        "import urllib.request\n",
        "import os\n",
        "from sklearn.model_selection import train_test_split\n",
        "from concurrent.futures import ThreadPoolExecutor\n",
        "from tqdm import tqdm\n",
        "import warnings\n",
        "import matplotlib.pyplot as plt\n",
        "import seaborn as sns\n",
        "from sklearn.metrics import classification_report, confusion_matrix\n",
        "\n",
        "# Suppress MNE warnings\n",
        "warnings.filterwarnings(\"ignore\", category=DeprecationWarning)\n",
        "mne.set_log_level('ERROR')\n",
        "\n",
        "# Constants\n",
        "NUM_SUBJECTS = 20\n",
        "NUM_NIGHTS = 2\n",
        "BASE_URL = \"https://physionet.org/files/sleep-edfx/1.0.0/\"\n",
        "\n",
        "def fetch_data(subject_id, night, record_type='PSG'):\n",
        "    try:\n",
        "        if record_type == 'PSG':\n",
        "            file_name = f\"SC4{subject_id:02d}{night}E0-PSG.edf\"\n",
        "        else:\n",
        "            file_name = f\"SC4{subject_id:02d}{night}EC-Hypnogram.edf\"\n",
        "\n",
        "        url = BASE_URL + (\"sleep-cassette/\" if night == 1 else \"sleep-telemetry/\") + file_name\n",
        "        local_file = f\"sleep_edf/{file_name}\"\n",
        "        os.makedirs(\"sleep_edf\", exist_ok=True)\n",
        "\n",
        "        if not os.path.exists(local_file):\n",
        "            urllib.request.urlretrieve(url, local_file)\n",
        "            print(f\"Downloaded: {file_name}\")\n",
        "\n",
        "        return local_file\n",
        "    except Exception:\n",
        "        return None\n",
        "\n",
        "def get_available_subjects():\n",
        "    available = []\n",
        "    with ThreadPoolExecutor(max_workers=10) as executor:\n",
        "        futures = []\n",
        "        for subject_id in range(NUM_SUBJECTS):\n",
        "            for night in range(1, NUM_NIGHTS+1):\n",
        "                futures.append((subject_id, night, executor.submit(\n",
        "                    lambda s, n: fetch_data(s, n) is not None, subject_id, night)))\n",
        "        for subject_id, night, future in tqdm(futures, desc=\"Checking availability\"):\n",
        "            if future.result():\n",
        "                available.append((subject_id, night))\n",
        "    return available\n",
        "\n",
        "def process_subject_night(subject_id, night):\n",
        "    try:\n",
        "        psg_file = fetch_data(subject_id, night, 'PSG')\n",
        "        hypno_file = fetch_data(subject_id, night, 'Hypnogram')\n",
        "        if psg_file is None or hypno_file is None:\n",
        "            return None, None\n",
        "\n",
        "        raw = mne.io.read_raw_edf(psg_file, preload=True, verbose=False)\n",
        "        required_channels = ['EEG Fpz-Cz', 'EEG Pz-Oz']\n",
        "        available = [ch for ch in required_channels if ch in raw.ch_names]\n",
        "        if len(available) < 2:\n",
        "            print(f\"Skipping subject {subject_id}, night {night}: missing required channels\")\n",
        "            return None, None\n",
        "        raw.pick_channels(available)\n",
        "\n",
        "        raw.filter(0.5, 40.0, l_trans_bandwidth=0.5, h_trans_bandwidth=10.0, verbose=False)\n",
        "        data = raw.get_data(units='uV')\n",
        "        sfreq = raw.info['sfreq']\n",
        "\n",
        "        samples_per_epoch = int(30 * sfreq)\n",
        "        n_epochs = data.shape[1] // samples_per_epoch\n",
        "        epochs = np.array([data[:, i*samples_per_epoch:(i+1)*samples_per_epoch] for i in range(n_epochs)])\n",
        "\n",
        "        annotations = mne.read_annotations(hypno_file)\n",
        "        labels = np.zeros(n_epochs, dtype=int)\n",
        "        stage_map = {\n",
        "            'Sleep stage W': 0, 'Sleep stage 1': 1,\n",
        "            'Sleep stage 2': 2, 'Sleep stage 3': 3,\n",
        "            'Sleep stage 4': 3, 'Sleep stage R': 4\n",
        "        }\n",
        "\n",
        "        for annot in annotations:\n",
        "            onset = int(annot['onset'] / 30)\n",
        "            duration = int(annot['duration'] / 30)\n",
        "            stage = annot['description']\n",
        "            if stage in stage_map:\n",
        "                for i in range(max(0, onset), min(n_epochs, onset + duration)):\n",
        "                    labels[i] = stage_map[stage]\n",
        "\n",
        "        epochs = (epochs - np.mean(epochs, axis=(1,2), keepdims=True)) / np.std(epochs, axis=(1,2), keepdims=True)\n",
        "        X = epochs.transpose(0, 2, 1)\n",
        "        y = labels\n",
        "\n",
        "        return X, y\n",
        "    except Exception as e:\n",
        "        print(f\"Error processing subject {subject_id} night {night}: {str(e)}\")\n",
        "        return None, None\n",
        "\n",
        "def build_model(input_shape):\n",
        "    model = models.Sequential([\n",
        "        layers.Input(shape=input_shape),\n",
        "        layers.Conv1D(64, 7, activation='relu', padding='same'),\n",
        "        layers.BatchNormalization(),\n",
        "        layers.MaxPooling1D(2),\n",
        "        layers.Conv1D(128, 7, activation='relu', padding='same'),\n",
        "        layers.BatchNormalization(),\n",
        "        layers.MaxPooling1D(2),\n",
        "        layers.Conv1D(256, 7, activation='relu', padding='same'),\n",
        "        layers.BatchNormalization(),\n",
        "        layers.GlobalAveragePooling1D(),\n",
        "        layers.Dense(128, activation='relu'),\n",
        "        layers.Dropout(0.3),\n",
        "        layers.Dense(5, activation='softmax')\n",
        "    ])\n",
        "    model.compile(\n",
        "        optimizer=tf.keras.optimizers.Adam(learning_rate=0.001),\n",
        "        loss='sparse_categorical_crossentropy',\n",
        "        metrics=['accuracy']\n",
        "    )\n",
        "    return model\n",
        "\n",
        "def main():\n",
        "    available = get_available_subjects()\n",
        "    print(f\"\\nFound {len(available)} available subject-night combinations\")\n",
        "    if not available:\n",
        "        print(\"No data available - check your internet connection\")\n",
        "        return\n",
        "\n",
        "    all_X, all_y = [], []\n",
        "    with ThreadPoolExecutor(max_workers=4) as executor:\n",
        "        futures = [executor.submit(process_subject_night, s, n) for s, n in available]\n",
        "        for future in tqdm(futures, desc=\"Processing data\"):\n",
        "            X, y = future.result()\n",
        "            if X is not None and y is not None:\n",
        "                all_X.append(X)\n",
        "                all_y.append(y)\n",
        "\n",
        "    if not all_X:\n",
        "        print(\"No valid data processed\")\n",
        "        return\n",
        "\n",
        "    X = np.concatenate(all_X)\n",
        "    y = np.concatenate(all_y)\n",
        "\n",
        "    print(f\"\\nFinal dataset: {X.shape[0]} epochs\")\n",
        "    print(\"Class distribution:\")\n",
        "    for i, stage in enumerate(['Wake', 'N1', 'N2', 'N3', 'REM']):\n",
        "        print(f\"{stage}: {np.sum(y == i)} ({(np.sum(y == i)/len(y))*100:.1f}%)\")\n",
        "\n",
        "    X_train, X_test, y_train, y_test = train_test_split(\n",
        "        X, y, test_size=0.2, stratify=y, random_state=42\n",
        "    )\n",
        "\n",
        "    model = build_model((X.shape[1], X.shape[2]))\n",
        "    print(\"\\nTraining model...\")\n",
        "    history = model.fit(\n",
        "        X_train, y_train,\n",
        "        validation_data=(X_test, y_test),\n",
        "        epochs=15,\n",
        "        batch_size=64,\n",
        "        verbose=1\n",
        "    )\n",
        "\n",
        "    test_loss, test_acc = model.evaluate(X_test, y_test, verbose=0)\n",
        "    print(f\"\\nFinal Test Accuracy: {test_acc:.4f}\")\n",
        "    print(f\"Final Test Loss: {test_loss:.4f}\")\n",
        "\n",
        "    # Per-class metrics\n",
        "    y_pred_probs = model.predict(X_test)\n",
        "    y_pred = np.argmax(y_pred_probs, axis=1)\n",
        "\n",
        "    print(\"\\nClassification Report:\")\n",
        "    print(classification_report(y_test, y_pred, target_names=['Wake', 'N1', 'N2', 'N3', 'REM']))\n",
        "\n",
        "    cm = confusion_matrix(y_test, y_pred)\n",
        "    plt.figure(figsize=(8, 6))\n",
        "    sns.heatmap(cm, annot=True, fmt='d', cmap='Blues',\n",
        "                xticklabels=['Wake', 'N1', 'N2', 'N3', 'REM'],\n",
        "                yticklabels=['Wake', 'N1', 'N2', 'N3', 'REM'])\n",
        "    plt.title('Confusion Matrix')\n",
        "    plt.xlabel('Predicted')\n",
        "    plt.ylabel('True')\n",
        "    plt.tight_layout()\n",
        "    plt.savefig('2channel_confusion_matrix.png')\n",
        "    plt.close()\n",
        "\n",
        "if __name__ == \"__main__\":\n",
        "    main()\n"
      ],
      "metadata": {
        "colab": {
          "base_uri": "https://localhost:8080/"
        },
        "id": "ELURyAj823Pt",
        "outputId": "9b33a241-8628-469c-98b8-4625f1c5d506"
      },
      "execution_count": null,
      "outputs": [
        {
          "output_type": "stream",
          "name": "stderr",
          "text": [
            "\rChecking availability:   0%|          | 0/40 [00:00<?, ?it/s]"
          ]
        },
        {
          "output_type": "stream",
          "name": "stdout",
          "text": [
            "Downloaded: SC4081E0-PSG.edf\n",
            "Downloaded: SC4041E0-PSG.edf\n"
          ]
        },
        {
          "output_type": "stream",
          "name": "stderr",
          "text": [
            "\rChecking availability:   2%|▎         | 1/40 [09:53<6:25:41, 593.36s/it]"
          ]
        },
        {
          "output_type": "stream",
          "name": "stdout",
          "text": [
            "Downloaded: SC4001E0-PSG.edf\n",
            "Downloaded: SC4091E0-PSG.edf\n",
            "Downloaded: SC4051E0-PSG.edf\n",
            "Downloaded: SC4061E0-PSG.edf\n",
            "Downloaded: SC4031E0-PSG.edf\n"
          ]
        },
        {
          "output_type": "stream",
          "name": "stderr",
          "text": [
            "\rChecking availability:   8%|▊         | 3/40 [10:10<1:38:43, 160.09s/it]"
          ]
        },
        {
          "output_type": "stream",
          "name": "stdout",
          "text": [
            "Downloaded: SC4011E0-PSG.edf\n"
          ]
        },
        {
          "output_type": "stream",
          "name": "stderr",
          "text": [
            "\rChecking availability:  12%|█▎        | 5/40 [10:10<45:27, 77.92s/it]   "
          ]
        },
        {
          "output_type": "stream",
          "name": "stdout",
          "text": [
            "Downloaded: SC4021E0-PSG.edf\n"
          ]
        },
        {
          "output_type": "stream",
          "name": "stderr",
          "text": [
            "\rChecking availability:  38%|███▊      | 15/40 [10:12<07:00, 16.81s/it]"
          ]
        },
        {
          "output_type": "stream",
          "name": "stdout",
          "text": [
            "Downloaded: SC4071E0-PSG.edf\n"
          ]
        },
        {
          "output_type": "stream",
          "name": "stderr",
          "text": [
            "\rChecking availability:  52%|█████▎    | 21/40 [10:57<04:08, 13.08s/it]"
          ]
        },
        {
          "output_type": "stream",
          "name": "stdout",
          "text": [
            "Downloaded: SC4101E0-PSG.edf\n"
          ]
        },
        {
          "output_type": "stream",
          "name": "stderr",
          "text": [
            "\rChecking availability:  57%|█████▊    | 23/40 [11:47<04:15, 15.01s/it]"
          ]
        },
        {
          "output_type": "stream",
          "name": "stdout",
          "text": [
            "Downloaded: SC4111E0-PSG.edf\n"
          ]
        },
        {
          "output_type": "stream",
          "name": "stderr",
          "text": [
            "\rChecking availability:  62%|██████▎   | 25/40 [11:56<03:15, 13.03s/it]"
          ]
        },
        {
          "output_type": "stream",
          "name": "stdout",
          "text": [
            "Downloaded: SC4121E0-PSG.edf\n"
          ]
        },
        {
          "output_type": "stream",
          "name": "stderr",
          "text": [
            "\rChecking availability:  68%|██████▊   | 27/40 [13:08<03:52, 17.88s/it]"
          ]
        },
        {
          "output_type": "stream",
          "name": "stdout",
          "text": [
            "Downloaded: SC4131E0-PSG.edf\n",
            "Downloaded: SC4161E0-PSG.edf\n"
          ]
        },
        {
          "output_type": "stream",
          "name": "stderr",
          "text": [
            "\rChecking availability:  72%|███████▎  | 29/40 [14:37<04:24, 24.02s/it]"
          ]
        },
        {
          "output_type": "stream",
          "name": "stdout",
          "text": [
            "Downloaded: SC4141E0-PSG.edf\n",
            "Downloaded: SC4171E0-PSG.edf\n"
          ]
        },
        {
          "output_type": "stream",
          "name": "stderr",
          "text": [
            "\rChecking availability:  78%|███████▊  | 31/40 [14:51<02:58, 19.83s/it]"
          ]
        },
        {
          "output_type": "stream",
          "name": "stdout",
          "text": [
            "Downloaded: SC4151E0-PSG.edf\n"
          ]
        },
        {
          "output_type": "stream",
          "name": "stderr",
          "text": [
            "\rChecking availability:  92%|█████████▎| 37/40 [15:15<00:34, 11.65s/it]"
          ]
        },
        {
          "output_type": "stream",
          "name": "stdout",
          "text": [
            "Downloaded: SC4181E0-PSG.edf\n"
          ]
        },
        {
          "output_type": "stream",
          "name": "stderr",
          "text": [
            "Checking availability: 100%|██████████| 40/40 [15:17<00:00, 22.94s/it]\n"
          ]
        },
        {
          "output_type": "stream",
          "name": "stdout",
          "text": [
            "Downloaded: SC4191E0-PSG.edf\n",
            "\n",
            "Found 20 available subject-night combinations\n"
          ]
        },
        {
          "output_type": "stream",
          "name": "stderr",
          "text": [
            "\rProcessing data:   0%|          | 0/20 [00:00<?, ?it/s]"
          ]
        },
        {
          "output_type": "stream",
          "name": "stdout",
          "text": [
            "Downloaded: SC4031EC-Hypnogram.edf\n",
            "Downloaded: SC4001EC-Hypnogram.edf\n",
            "Downloaded: SC4041EC-Hypnogram.edf\n",
            "Downloaded: SC4051EC-Hypnogram.edf\n"
          ]
        },
        {
          "output_type": "stream",
          "name": "stderr",
          "text": [
            "<ipython-input-2-3781ae147b3c>:63: RuntimeWarning: Channels contain different highpass filters. Highest filter setting will be stored.\n",
            "  raw = mne.io.read_raw_edf(psg_file, preload=True, verbose=False)\n",
            "<ipython-input-2-3781ae147b3c>:63: RuntimeWarning: Channels contain different lowpass filters. Lowest filter setting will be stored.\n",
            "  raw = mne.io.read_raw_edf(psg_file, preload=True, verbose=False)\n",
            "<ipython-input-2-3781ae147b3c>:63: RuntimeWarning: Highpass cutoff frequency 16.0 is greater than lowpass cutoff frequency 0.7, setting values to 0 and Nyquist.\n",
            "  raw = mne.io.read_raw_edf(psg_file, preload=True, verbose=False)\n",
            "<ipython-input-2-3781ae147b3c>:63: RuntimeWarning: Channels contain different highpass filters. Highest filter setting will be stored.\n",
            "  raw = mne.io.read_raw_edf(psg_file, preload=True, verbose=False)\n",
            "<ipython-input-2-3781ae147b3c>:63: RuntimeWarning: Channels contain different lowpass filters. Lowest filter setting will be stored.\n",
            "  raw = mne.io.read_raw_edf(psg_file, preload=True, verbose=False)\n",
            "<ipython-input-2-3781ae147b3c>:63: RuntimeWarning: Highpass cutoff frequency 16.0 is greater than lowpass cutoff frequency 0.7, setting values to 0 and Nyquist.\n",
            "  raw = mne.io.read_raw_edf(psg_file, preload=True, verbose=False)\n",
            "<ipython-input-2-3781ae147b3c>:63: RuntimeWarning: Channels contain different highpass filters. Highest filter setting will be stored.\n",
            "  raw = mne.io.read_raw_edf(psg_file, preload=True, verbose=False)\n",
            "<ipython-input-2-3781ae147b3c>:63: RuntimeWarning: Channels contain different lowpass filters. Lowest filter setting will be stored.\n",
            "  raw = mne.io.read_raw_edf(psg_file, preload=True, verbose=False)\n",
            "<ipython-input-2-3781ae147b3c>:63: RuntimeWarning: Highpass cutoff frequency 16.0 is greater than lowpass cutoff frequency 0.7, setting values to 0 and Nyquist.\n",
            "  raw = mne.io.read_raw_edf(psg_file, preload=True, verbose=False)\n",
            "<ipython-input-2-3781ae147b3c>:63: RuntimeWarning: Channels contain different highpass filters. Highest filter setting will be stored.\n",
            "  raw = mne.io.read_raw_edf(psg_file, preload=True, verbose=False)\n",
            "<ipython-input-2-3781ae147b3c>:63: RuntimeWarning: Channels contain different lowpass filters. Lowest filter setting will be stored.\n",
            "  raw = mne.io.read_raw_edf(psg_file, preload=True, verbose=False)\n",
            "<ipython-input-2-3781ae147b3c>:63: RuntimeWarning: Highpass cutoff frequency 16.0 is greater than lowpass cutoff frequency 0.7, setting values to 0 and Nyquist.\n",
            "  raw = mne.io.read_raw_edf(psg_file, preload=True, verbose=False)\n",
            "Processing data:   5%|▌         | 1/20 [00:15<05:01, 15.86s/it]<ipython-input-2-3781ae147b3c>:63: RuntimeWarning: Channels contain different highpass filters. Highest filter setting will be stored.\n",
            "  raw = mne.io.read_raw_edf(psg_file, preload=True, verbose=False)\n",
            "<ipython-input-2-3781ae147b3c>:63: RuntimeWarning: Channels contain different lowpass filters. Lowest filter setting will be stored.\n",
            "  raw = mne.io.read_raw_edf(psg_file, preload=True, verbose=False)\n",
            "<ipython-input-2-3781ae147b3c>:63: RuntimeWarning: Highpass cutoff frequency 16.0 is greater than lowpass cutoff frequency 0.7, setting values to 0 and Nyquist.\n",
            "  raw = mne.io.read_raw_edf(psg_file, preload=True, verbose=False)\n",
            "Processing data:  20%|██        | 4/20 [00:16<00:49,  3.11s/it]"
          ]
        },
        {
          "output_type": "stream",
          "name": "stdout",
          "text": [
            "Downloaded: SC4061EC-Hypnogram.edf\n",
            "Downloaded: SC4071EC-Hypnogram.edf\n"
          ]
        },
        {
          "output_type": "stream",
          "name": "stderr",
          "text": [
            "<ipython-input-2-3781ae147b3c>:63: RuntimeWarning: Channels contain different highpass filters. Highest filter setting will be stored.\n",
            "  raw = mne.io.read_raw_edf(psg_file, preload=True, verbose=False)\n",
            "<ipython-input-2-3781ae147b3c>:63: RuntimeWarning: Channels contain different lowpass filters. Lowest filter setting will be stored.\n",
            "  raw = mne.io.read_raw_edf(psg_file, preload=True, verbose=False)\n",
            "<ipython-input-2-3781ae147b3c>:63: RuntimeWarning: Highpass cutoff frequency 16.0 is greater than lowpass cutoff frequency 0.7, setting values to 0 and Nyquist.\n",
            "  raw = mne.io.read_raw_edf(psg_file, preload=True, verbose=False)\n",
            "Processing data:  25%|██▌       | 5/20 [00:20<00:52,  3.51s/it]"
          ]
        },
        {
          "output_type": "stream",
          "name": "stdout",
          "text": [
            "Downloaded: SC4081EC-Hypnogram.edf\n"
          ]
        },
        {
          "output_type": "stream",
          "name": "stderr",
          "text": [
            "<ipython-input-2-3781ae147b3c>:63: RuntimeWarning: Channels contain different highpass filters. Highest filter setting will be stored.\n",
            "  raw = mne.io.read_raw_edf(psg_file, preload=True, verbose=False)\n",
            "<ipython-input-2-3781ae147b3c>:63: RuntimeWarning: Channels contain different lowpass filters. Lowest filter setting will be stored.\n",
            "  raw = mne.io.read_raw_edf(psg_file, preload=True, verbose=False)\n",
            "<ipython-input-2-3781ae147b3c>:63: RuntimeWarning: Highpass cutoff frequency 16.0 is greater than lowpass cutoff frequency 0.7, setting values to 0 and Nyquist.\n",
            "  raw = mne.io.read_raw_edf(psg_file, preload=True, verbose=False)\n"
          ]
        },
        {
          "output_type": "stream",
          "name": "stdout",
          "text": [
            "Downloaded: SC4091EC-Hypnogram.edf\n"
          ]
        },
        {
          "output_type": "stream",
          "name": "stderr",
          "text": [
            "<ipython-input-2-3781ae147b3c>:63: RuntimeWarning: Channels contain different highpass filters. Highest filter setting will be stored.\n",
            "  raw = mne.io.read_raw_edf(psg_file, preload=True, verbose=False)\n",
            "<ipython-input-2-3781ae147b3c>:63: RuntimeWarning: Channels contain different lowpass filters. Lowest filter setting will be stored.\n",
            "  raw = mne.io.read_raw_edf(psg_file, preload=True, verbose=False)\n",
            "<ipython-input-2-3781ae147b3c>:63: RuntimeWarning: Highpass cutoff frequency 16.0 is greater than lowpass cutoff frequency 0.7, setting values to 0 and Nyquist.\n",
            "  raw = mne.io.read_raw_edf(psg_file, preload=True, verbose=False)\n"
          ]
        },
        {
          "output_type": "stream",
          "name": "stdout",
          "text": [
            "Downloaded: SC4101EC-Hypnogram.edf\n"
          ]
        },
        {
          "output_type": "stream",
          "name": "stderr",
          "text": [
            "<ipython-input-2-3781ae147b3c>:63: RuntimeWarning: Channels contain different highpass filters. Highest filter setting will be stored.\n",
            "  raw = mne.io.read_raw_edf(psg_file, preload=True, verbose=False)\n",
            "<ipython-input-2-3781ae147b3c>:63: RuntimeWarning: Channels contain different lowpass filters. Lowest filter setting will be stored.\n",
            "  raw = mne.io.read_raw_edf(psg_file, preload=True, verbose=False)\n",
            "<ipython-input-2-3781ae147b3c>:63: RuntimeWarning: Highpass cutoff frequency 16.0 is greater than lowpass cutoff frequency 0.7, setting values to 0 and Nyquist.\n",
            "  raw = mne.io.read_raw_edf(psg_file, preload=True, verbose=False)\n"
          ]
        },
        {
          "output_type": "stream",
          "name": "stdout",
          "text": [
            "Downloaded: SC4111EC-Hypnogram.edf\n"
          ]
        },
        {
          "output_type": "stream",
          "name": "stderr",
          "text": [
            "<ipython-input-2-3781ae147b3c>:63: RuntimeWarning: Channels contain different highpass filters. Highest filter setting will be stored.\n",
            "  raw = mne.io.read_raw_edf(psg_file, preload=True, verbose=False)\n",
            "<ipython-input-2-3781ae147b3c>:63: RuntimeWarning: Channels contain different lowpass filters. Lowest filter setting will be stored.\n",
            "  raw = mne.io.read_raw_edf(psg_file, preload=True, verbose=False)\n",
            "<ipython-input-2-3781ae147b3c>:63: RuntimeWarning: Highpass cutoff frequency 16.0 is greater than lowpass cutoff frequency 0.7, setting values to 0 and Nyquist.\n",
            "  raw = mne.io.read_raw_edf(psg_file, preload=True, verbose=False)\n"
          ]
        },
        {
          "output_type": "stream",
          "name": "stdout",
          "text": [
            "Downloaded: SC4121EC-Hypnogram.edf\n"
          ]
        },
        {
          "output_type": "stream",
          "name": "stderr",
          "text": [
            "<ipython-input-2-3781ae147b3c>:63: RuntimeWarning: Channels contain different highpass filters. Highest filter setting will be stored.\n",
            "  raw = mne.io.read_raw_edf(psg_file, preload=True, verbose=False)\n",
            "<ipython-input-2-3781ae147b3c>:63: RuntimeWarning: Channels contain different lowpass filters. Lowest filter setting will be stored.\n",
            "  raw = mne.io.read_raw_edf(psg_file, preload=True, verbose=False)\n",
            "<ipython-input-2-3781ae147b3c>:63: RuntimeWarning: Highpass cutoff frequency 16.0 is greater than lowpass cutoff frequency 0.7, setting values to 0 and Nyquist.\n",
            "  raw = mne.io.read_raw_edf(psg_file, preload=True, verbose=False)\n",
            "Processing data:  30%|███       | 6/20 [00:59<03:09, 13.55s/it]"
          ]
        },
        {
          "output_type": "stream",
          "name": "stdout",
          "text": [
            "Downloaded: SC4131EC-Hypnogram.edf\n"
          ]
        },
        {
          "output_type": "stream",
          "name": "stderr",
          "text": [
            "<ipython-input-2-3781ae147b3c>:63: RuntimeWarning: Channels contain different highpass filters. Highest filter setting will be stored.\n",
            "  raw = mne.io.read_raw_edf(psg_file, preload=True, verbose=False)\n",
            "<ipython-input-2-3781ae147b3c>:63: RuntimeWarning: Channels contain different lowpass filters. Lowest filter setting will be stored.\n",
            "  raw = mne.io.read_raw_edf(psg_file, preload=True, verbose=False)\n",
            "<ipython-input-2-3781ae147b3c>:63: RuntimeWarning: Highpass cutoff frequency 16.0 is greater than lowpass cutoff frequency 0.7, setting values to 0 and Nyquist.\n",
            "  raw = mne.io.read_raw_edf(psg_file, preload=True, verbose=False)\n",
            "Processing data:  50%|█████     | 10/20 [01:16<01:17,  7.79s/it]"
          ]
        },
        {
          "output_type": "stream",
          "name": "stdout",
          "text": [
            "Downloaded: SC4151EC-Hypnogram.edf\n"
          ]
        },
        {
          "output_type": "stream",
          "name": "stderr",
          "text": [
            "<ipython-input-2-3781ae147b3c>:63: RuntimeWarning: Channels contain different highpass filters. Highest filter setting will be stored.\n",
            "  raw = mne.io.read_raw_edf(psg_file, preload=True, verbose=False)\n",
            "<ipython-input-2-3781ae147b3c>:63: RuntimeWarning: Channels contain different lowpass filters. Lowest filter setting will be stored.\n",
            "  raw = mne.io.read_raw_edf(psg_file, preload=True, verbose=False)\n",
            "<ipython-input-2-3781ae147b3c>:63: RuntimeWarning: Highpass cutoff frequency 16.0 is greater than lowpass cutoff frequency 0.7, setting values to 0 and Nyquist.\n",
            "  raw = mne.io.read_raw_edf(psg_file, preload=True, verbose=False)\n"
          ]
        },
        {
          "output_type": "stream",
          "name": "stdout",
          "text": [
            "Downloaded: SC4161EC-Hypnogram.edf\n"
          ]
        },
        {
          "output_type": "stream",
          "name": "stderr",
          "text": [
            "<ipython-input-2-3781ae147b3c>:63: RuntimeWarning: Channels contain different highpass filters. Highest filter setting will be stored.\n",
            "  raw = mne.io.read_raw_edf(psg_file, preload=True, verbose=False)\n",
            "<ipython-input-2-3781ae147b3c>:63: RuntimeWarning: Channels contain different lowpass filters. Lowest filter setting will be stored.\n",
            "  raw = mne.io.read_raw_edf(psg_file, preload=True, verbose=False)\n",
            "<ipython-input-2-3781ae147b3c>:63: RuntimeWarning: Highpass cutoff frequency 16.0 is greater than lowpass cutoff frequency 0.7, setting values to 0 and Nyquist.\n",
            "  raw = mne.io.read_raw_edf(psg_file, preload=True, verbose=False)\n"
          ]
        },
        {
          "output_type": "stream",
          "name": "stdout",
          "text": [
            "Downloaded: SC4181EC-Hypnogram.edf\n"
          ]
        },
        {
          "output_type": "stream",
          "name": "stderr",
          "text": [
            "<ipython-input-2-3781ae147b3c>:63: RuntimeWarning: Channels contain different highpass filters. Highest filter setting will be stored.\n",
            "  raw = mne.io.read_raw_edf(psg_file, preload=True, verbose=False)\n",
            "<ipython-input-2-3781ae147b3c>:63: RuntimeWarning: Channels contain different lowpass filters. Lowest filter setting will be stored.\n",
            "  raw = mne.io.read_raw_edf(psg_file, preload=True, verbose=False)\n",
            "<ipython-input-2-3781ae147b3c>:63: RuntimeWarning: Highpass cutoff frequency 16.0 is greater than lowpass cutoff frequency 0.7, setting values to 0 and Nyquist.\n",
            "  raw = mne.io.read_raw_edf(psg_file, preload=True, verbose=False)\n",
            "Processing data: 100%|██████████| 20/20 [01:33<00:00,  4.68s/it]\n"
          ]
        },
        {
          "output_type": "stream",
          "name": "stdout",
          "text": [
            "\n",
            "Final dataset: 40834 epochs\n",
            "Class distribution:\n",
            "Wake: 28490 (69.8%)\n",
            "N1: 869 (2.1%)\n",
            "N2: 6528 (16.0%)\n",
            "N3: 2305 (5.6%)\n",
            "REM: 2642 (6.5%)\n",
            "\n",
            "Training model...\n",
            "Epoch 1/15\n",
            "\u001b[1m511/511\u001b[0m \u001b[32m━━━━━━━━━━━━━━━━━━━━\u001b[0m\u001b[37m\u001b[0m \u001b[1m39s\u001b[0m 60ms/step - accuracy: 0.8885 - loss: 0.3212 - val_accuracy: 0.9137 - val_loss: 0.2518\n",
            "Epoch 2/15\n",
            "\u001b[1m511/511\u001b[0m \u001b[32m━━━━━━━━━━━━━━━━━━━━\u001b[0m\u001b[37m\u001b[0m \u001b[1m25s\u001b[0m 50ms/step - accuracy: 0.9362 - loss: 0.1786 - val_accuracy: 0.9344 - val_loss: 0.1722\n",
            "Epoch 3/15\n",
            "\u001b[1m511/511\u001b[0m \u001b[32m━━━━━━━━━━━━━━━━━━━━\u001b[0m\u001b[37m\u001b[0m \u001b[1m25s\u001b[0m 50ms/step - accuracy: 0.9403 - loss: 0.1644 - val_accuracy: 0.9336 - val_loss: 0.1877\n",
            "Epoch 4/15\n",
            "\u001b[1m511/511\u001b[0m \u001b[32m━━━━━━━━━━━━━━━━━━━━\u001b[0m\u001b[37m\u001b[0m \u001b[1m41s\u001b[0m 50ms/step - accuracy: 0.9454 - loss: 0.1534 - val_accuracy: 0.9491 - val_loss: 0.1379\n",
            "Epoch 5/15\n",
            "\u001b[1m511/511\u001b[0m \u001b[32m━━━━━━━━━━━━━━━━━━━━\u001b[0m\u001b[37m\u001b[0m \u001b[1m41s\u001b[0m 50ms/step - accuracy: 0.9437 - loss: 0.1500 - val_accuracy: 0.9456 - val_loss: 0.1423\n",
            "Epoch 6/15\n",
            "\u001b[1m511/511\u001b[0m \u001b[32m━━━━━━━━━━━━━━━━━━━━\u001b[0m\u001b[37m\u001b[0m \u001b[1m26s\u001b[0m 51ms/step - accuracy: 0.9478 - loss: 0.1436 - val_accuracy: 0.9406 - val_loss: 0.1562\n",
            "Epoch 7/15\n",
            "\u001b[1m511/511\u001b[0m \u001b[32m━━━━━━━━━━━━━━━━━━━━\u001b[0m\u001b[37m\u001b[0m \u001b[1m41s\u001b[0m 51ms/step - accuracy: 0.9509 - loss: 0.1339 - val_accuracy: 0.9459 - val_loss: 0.1453\n",
            "Epoch 8/15\n",
            "\u001b[1m511/511\u001b[0m \u001b[32m━━━━━━━━━━━━━━━━━━━━\u001b[0m\u001b[37m\u001b[0m \u001b[1m26s\u001b[0m 52ms/step - accuracy: 0.9509 - loss: 0.1310 - val_accuracy: 0.9496 - val_loss: 0.1303\n",
            "Epoch 9/15\n",
            "\u001b[1m511/511\u001b[0m \u001b[32m━━━━━━━━━━━━━━━━━━━━\u001b[0m\u001b[37m\u001b[0m \u001b[1m41s\u001b[0m 51ms/step - accuracy: 0.9526 - loss: 0.1263 - val_accuracy: 0.9488 - val_loss: 0.1372\n",
            "Epoch 10/15\n",
            "\u001b[1m511/511\u001b[0m \u001b[32m━━━━━━━━━━━━━━━━━━━━\u001b[0m\u001b[37m\u001b[0m \u001b[1m41s\u001b[0m 51ms/step - accuracy: 0.9528 - loss: 0.1281 - val_accuracy: 0.9486 - val_loss: 0.1350\n",
            "Epoch 11/15\n",
            "\u001b[1m511/511\u001b[0m \u001b[32m━━━━━━━━━━━━━━━━━━━━\u001b[0m\u001b[37m\u001b[0m \u001b[1m41s\u001b[0m 50ms/step - accuracy: 0.9546 - loss: 0.1218 - val_accuracy: 0.9407 - val_loss: 0.1604\n",
            "Epoch 12/15\n",
            "\u001b[1m511/511\u001b[0m \u001b[32m━━━━━━━━━━━━━━━━━━━━\u001b[0m\u001b[37m\u001b[0m \u001b[1m41s\u001b[0m 50ms/step - accuracy: 0.9572 - loss: 0.1142 - val_accuracy: 0.9421 - val_loss: 0.1598\n",
            "Epoch 13/15\n",
            "\u001b[1m511/511\u001b[0m \u001b[32m━━━━━━━━━━━━━━━━━━━━\u001b[0m\u001b[37m\u001b[0m \u001b[1m41s\u001b[0m 50ms/step - accuracy: 0.9577 - loss: 0.1163 - val_accuracy: 0.9476 - val_loss: 0.1349\n",
            "Epoch 14/15\n",
            "\u001b[1m511/511\u001b[0m \u001b[32m━━━━━━━━━━━━━━━━━━━━\u001b[0m\u001b[37m\u001b[0m \u001b[1m41s\u001b[0m 50ms/step - accuracy: 0.9569 - loss: 0.1074 - val_accuracy: 0.9524 - val_loss: 0.1300\n",
            "Epoch 15/15\n",
            "\u001b[1m511/511\u001b[0m \u001b[32m━━━━━━━━━━━━━━━━━━━━\u001b[0m\u001b[37m\u001b[0m \u001b[1m26s\u001b[0m 51ms/step - accuracy: 0.9572 - loss: 0.1074 - val_accuracy: 0.9398 - val_loss: 0.1618\n",
            "\n",
            "Final Test Accuracy: 0.9398\n",
            "Final Test Loss: 0.1618\n",
            "\u001b[1m256/256\u001b[0m \u001b[32m━━━━━━━━━━━━━━━━━━━━\u001b[0m\u001b[37m\u001b[0m \u001b[1m2s\u001b[0m 6ms/step\n",
            "\n",
            "Classification Report:\n",
            "              precision    recall  f1-score   support\n",
            "\n",
            "        Wake       1.00      0.99      0.99      5698\n",
            "          N1       0.49      0.64      0.55       174\n",
            "          N2       0.80      0.94      0.87      1306\n",
            "          N3       0.98      0.60      0.74       461\n",
            "         REM       0.90      0.77      0.83       528\n",
            "\n",
            "    accuracy                           0.94      8167\n",
            "   macro avg       0.83      0.79      0.80      8167\n",
            "weighted avg       0.95      0.94      0.94      8167\n",
            "\n"
          ]
        }
      ]
    },
    {
      "cell_type": "code",
      "source": [
        "!pip install mne\n",
        "!pip install scikit-learn\n",
        "!pip install seaborn\n",
        "!pip install tqdm\n",
        "!pip install matplotlib\n",
        "!pip install tensorflow\n"
      ],
      "metadata": {
        "colab": {
          "base_uri": "https://localhost:8080/"
        },
        "id": "nckQBb-x3T2E",
        "outputId": "7c837d67-4c0a-4c03-b4d6-d0a50242eb5c"
      },
      "execution_count": null,
      "outputs": [
        {
          "output_type": "stream",
          "name": "stdout",
          "text": [
            "Requirement already satisfied: mne in /usr/local/lib/python3.11/dist-packages (1.9.0)\n",
            "Requirement already satisfied: decorator in /usr/local/lib/python3.11/dist-packages (from mne) (4.4.2)\n",
            "Requirement already satisfied: jinja2 in /usr/local/lib/python3.11/dist-packages (from mne) (3.1.6)\n",
            "Requirement already satisfied: lazy-loader>=0.3 in /usr/local/lib/python3.11/dist-packages (from mne) (0.4)\n",
            "Requirement already satisfied: matplotlib>=3.6 in /usr/local/lib/python3.11/dist-packages (from mne) (3.10.0)\n",
            "Requirement already satisfied: numpy<3,>=1.23 in /usr/local/lib/python3.11/dist-packages (from mne) (2.0.2)\n",
            "Requirement already satisfied: packaging in /usr/local/lib/python3.11/dist-packages (from mne) (24.2)\n",
            "Requirement already satisfied: pooch>=1.5 in /usr/local/lib/python3.11/dist-packages (from mne) (1.8.2)\n",
            "Requirement already satisfied: scipy>=1.9 in /usr/local/lib/python3.11/dist-packages (from mne) (1.15.2)\n",
            "Requirement already satisfied: tqdm in /usr/local/lib/python3.11/dist-packages (from mne) (4.67.1)\n",
            "Requirement already satisfied: contourpy>=1.0.1 in /usr/local/lib/python3.11/dist-packages (from matplotlib>=3.6->mne) (1.3.2)\n",
            "Requirement already satisfied: cycler>=0.10 in /usr/local/lib/python3.11/dist-packages (from matplotlib>=3.6->mne) (0.12.1)\n",
            "Requirement already satisfied: fonttools>=4.22.0 in /usr/local/lib/python3.11/dist-packages (from matplotlib>=3.6->mne) (4.57.0)\n",
            "Requirement already satisfied: kiwisolver>=1.3.1 in /usr/local/lib/python3.11/dist-packages (from matplotlib>=3.6->mne) (1.4.8)\n",
            "Requirement already satisfied: pillow>=8 in /usr/local/lib/python3.11/dist-packages (from matplotlib>=3.6->mne) (11.2.1)\n",
            "Requirement already satisfied: pyparsing>=2.3.1 in /usr/local/lib/python3.11/dist-packages (from matplotlib>=3.6->mne) (3.2.3)\n",
            "Requirement already satisfied: python-dateutil>=2.7 in /usr/local/lib/python3.11/dist-packages (from matplotlib>=3.6->mne) (2.9.0.post0)\n",
            "Requirement already satisfied: platformdirs>=2.5.0 in /usr/local/lib/python3.11/dist-packages (from pooch>=1.5->mne) (4.3.7)\n",
            "Requirement already satisfied: requests>=2.19.0 in /usr/local/lib/python3.11/dist-packages (from pooch>=1.5->mne) (2.32.3)\n",
            "Requirement already satisfied: MarkupSafe>=2.0 in /usr/local/lib/python3.11/dist-packages (from jinja2->mne) (3.0.2)\n",
            "Requirement already satisfied: six>=1.5 in /usr/local/lib/python3.11/dist-packages (from python-dateutil>=2.7->matplotlib>=3.6->mne) (1.17.0)\n",
            "Requirement already satisfied: charset-normalizer<4,>=2 in /usr/local/lib/python3.11/dist-packages (from requests>=2.19.0->pooch>=1.5->mne) (3.4.1)\n",
            "Requirement already satisfied: idna<4,>=2.5 in /usr/local/lib/python3.11/dist-packages (from requests>=2.19.0->pooch>=1.5->mne) (3.10)\n",
            "Requirement already satisfied: urllib3<3,>=1.21.1 in /usr/local/lib/python3.11/dist-packages (from requests>=2.19.0->pooch>=1.5->mne) (2.4.0)\n",
            "Requirement already satisfied: certifi>=2017.4.17 in /usr/local/lib/python3.11/dist-packages (from requests>=2.19.0->pooch>=1.5->mne) (2025.4.26)\n",
            "Requirement already satisfied: scikit-learn in /usr/local/lib/python3.11/dist-packages (1.6.1)\n",
            "Requirement already satisfied: numpy>=1.19.5 in /usr/local/lib/python3.11/dist-packages (from scikit-learn) (2.0.2)\n",
            "Requirement already satisfied: scipy>=1.6.0 in /usr/local/lib/python3.11/dist-packages (from scikit-learn) (1.15.2)\n",
            "Requirement already satisfied: joblib>=1.2.0 in /usr/local/lib/python3.11/dist-packages (from scikit-learn) (1.4.2)\n",
            "Requirement already satisfied: threadpoolctl>=3.1.0 in /usr/local/lib/python3.11/dist-packages (from scikit-learn) (3.6.0)\n",
            "Requirement already satisfied: seaborn in /usr/local/lib/python3.11/dist-packages (0.13.2)\n",
            "Requirement already satisfied: numpy!=1.24.0,>=1.20 in /usr/local/lib/python3.11/dist-packages (from seaborn) (2.0.2)\n",
            "Requirement already satisfied: pandas>=1.2 in /usr/local/lib/python3.11/dist-packages (from seaborn) (2.2.2)\n",
            "Requirement already satisfied: matplotlib!=3.6.1,>=3.4 in /usr/local/lib/python3.11/dist-packages (from seaborn) (3.10.0)\n",
            "Requirement already satisfied: contourpy>=1.0.1 in /usr/local/lib/python3.11/dist-packages (from matplotlib!=3.6.1,>=3.4->seaborn) (1.3.2)\n",
            "Requirement already satisfied: cycler>=0.10 in /usr/local/lib/python3.11/dist-packages (from matplotlib!=3.6.1,>=3.4->seaborn) (0.12.1)\n",
            "Requirement already satisfied: fonttools>=4.22.0 in /usr/local/lib/python3.11/dist-packages (from matplotlib!=3.6.1,>=3.4->seaborn) (4.57.0)\n",
            "Requirement already satisfied: kiwisolver>=1.3.1 in /usr/local/lib/python3.11/dist-packages (from matplotlib!=3.6.1,>=3.4->seaborn) (1.4.8)\n",
            "Requirement already satisfied: packaging>=20.0 in /usr/local/lib/python3.11/dist-packages (from matplotlib!=3.6.1,>=3.4->seaborn) (24.2)\n",
            "Requirement already satisfied: pillow>=8 in /usr/local/lib/python3.11/dist-packages (from matplotlib!=3.6.1,>=3.4->seaborn) (11.2.1)\n",
            "Requirement already satisfied: pyparsing>=2.3.1 in /usr/local/lib/python3.11/dist-packages (from matplotlib!=3.6.1,>=3.4->seaborn) (3.2.3)\n",
            "Requirement already satisfied: python-dateutil>=2.7 in /usr/local/lib/python3.11/dist-packages (from matplotlib!=3.6.1,>=3.4->seaborn) (2.9.0.post0)\n",
            "Requirement already satisfied: pytz>=2020.1 in /usr/local/lib/python3.11/dist-packages (from pandas>=1.2->seaborn) (2025.2)\n",
            "Requirement already satisfied: tzdata>=2022.7 in /usr/local/lib/python3.11/dist-packages (from pandas>=1.2->seaborn) (2025.2)\n",
            "Requirement already satisfied: six>=1.5 in /usr/local/lib/python3.11/dist-packages (from python-dateutil>=2.7->matplotlib!=3.6.1,>=3.4->seaborn) (1.17.0)\n",
            "Requirement already satisfied: tqdm in /usr/local/lib/python3.11/dist-packages (4.67.1)\n",
            "Requirement already satisfied: matplotlib in /usr/local/lib/python3.11/dist-packages (3.10.0)\n",
            "Requirement already satisfied: contourpy>=1.0.1 in /usr/local/lib/python3.11/dist-packages (from matplotlib) (1.3.2)\n",
            "Requirement already satisfied: cycler>=0.10 in /usr/local/lib/python3.11/dist-packages (from matplotlib) (0.12.1)\n",
            "Requirement already satisfied: fonttools>=4.22.0 in /usr/local/lib/python3.11/dist-packages (from matplotlib) (4.57.0)\n",
            "Requirement already satisfied: kiwisolver>=1.3.1 in /usr/local/lib/python3.11/dist-packages (from matplotlib) (1.4.8)\n",
            "Requirement already satisfied: numpy>=1.23 in /usr/local/lib/python3.11/dist-packages (from matplotlib) (2.0.2)\n",
            "Requirement already satisfied: packaging>=20.0 in /usr/local/lib/python3.11/dist-packages (from matplotlib) (24.2)\n",
            "Requirement already satisfied: pillow>=8 in /usr/local/lib/python3.11/dist-packages (from matplotlib) (11.2.1)\n",
            "Requirement already satisfied: pyparsing>=2.3.1 in /usr/local/lib/python3.11/dist-packages (from matplotlib) (3.2.3)\n",
            "Requirement already satisfied: python-dateutil>=2.7 in /usr/local/lib/python3.11/dist-packages (from matplotlib) (2.9.0.post0)\n",
            "Requirement already satisfied: six>=1.5 in /usr/local/lib/python3.11/dist-packages (from python-dateutil>=2.7->matplotlib) (1.17.0)\n",
            "Requirement already satisfied: tensorflow in /usr/local/lib/python3.11/dist-packages (2.18.0)\n",
            "Requirement already satisfied: absl-py>=1.0.0 in /usr/local/lib/python3.11/dist-packages (from tensorflow) (1.4.0)\n",
            "Requirement already satisfied: astunparse>=1.6.0 in /usr/local/lib/python3.11/dist-packages (from tensorflow) (1.6.3)\n",
            "Requirement already satisfied: flatbuffers>=24.3.25 in /usr/local/lib/python3.11/dist-packages (from tensorflow) (25.2.10)\n",
            "Requirement already satisfied: gast!=0.5.0,!=0.5.1,!=0.5.2,>=0.2.1 in /usr/local/lib/python3.11/dist-packages (from tensorflow) (0.6.0)\n",
            "Requirement already satisfied: google-pasta>=0.1.1 in /usr/local/lib/python3.11/dist-packages (from tensorflow) (0.2.0)\n",
            "Requirement already satisfied: libclang>=13.0.0 in /usr/local/lib/python3.11/dist-packages (from tensorflow) (18.1.1)\n",
            "Requirement already satisfied: opt-einsum>=2.3.2 in /usr/local/lib/python3.11/dist-packages (from tensorflow) (3.4.0)\n",
            "Requirement already satisfied: packaging in /usr/local/lib/python3.11/dist-packages (from tensorflow) (24.2)\n",
            "Requirement already satisfied: protobuf!=4.21.0,!=4.21.1,!=4.21.2,!=4.21.3,!=4.21.4,!=4.21.5,<6.0.0dev,>=3.20.3 in /usr/local/lib/python3.11/dist-packages (from tensorflow) (5.29.4)\n",
            "Requirement already satisfied: requests<3,>=2.21.0 in /usr/local/lib/python3.11/dist-packages (from tensorflow) (2.32.3)\n",
            "Requirement already satisfied: setuptools in /usr/local/lib/python3.11/dist-packages (from tensorflow) (75.2.0)\n",
            "Requirement already satisfied: six>=1.12.0 in /usr/local/lib/python3.11/dist-packages (from tensorflow) (1.17.0)\n",
            "Requirement already satisfied: termcolor>=1.1.0 in /usr/local/lib/python3.11/dist-packages (from tensorflow) (3.1.0)\n",
            "Requirement already satisfied: typing-extensions>=3.6.6 in /usr/local/lib/python3.11/dist-packages (from tensorflow) (4.13.2)\n",
            "Requirement already satisfied: wrapt>=1.11.0 in /usr/local/lib/python3.11/dist-packages (from tensorflow) (1.17.2)\n",
            "Requirement already satisfied: grpcio<2.0,>=1.24.3 in /usr/local/lib/python3.11/dist-packages (from tensorflow) (1.71.0)\n",
            "Requirement already satisfied: tensorboard<2.19,>=2.18 in /usr/local/lib/python3.11/dist-packages (from tensorflow) (2.18.0)\n",
            "Requirement already satisfied: keras>=3.5.0 in /usr/local/lib/python3.11/dist-packages (from tensorflow) (3.8.0)\n",
            "Requirement already satisfied: numpy<2.1.0,>=1.26.0 in /usr/local/lib/python3.11/dist-packages (from tensorflow) (2.0.2)\n",
            "Requirement already satisfied: h5py>=3.11.0 in /usr/local/lib/python3.11/dist-packages (from tensorflow) (3.13.0)\n",
            "Requirement already satisfied: ml-dtypes<0.5.0,>=0.4.0 in /usr/local/lib/python3.11/dist-packages (from tensorflow) (0.4.1)\n",
            "Requirement already satisfied: tensorflow-io-gcs-filesystem>=0.23.1 in /usr/local/lib/python3.11/dist-packages (from tensorflow) (0.37.1)\n",
            "Requirement already satisfied: wheel<1.0,>=0.23.0 in /usr/local/lib/python3.11/dist-packages (from astunparse>=1.6.0->tensorflow) (0.45.1)\n",
            "Requirement already satisfied: rich in /usr/local/lib/python3.11/dist-packages (from keras>=3.5.0->tensorflow) (13.9.4)\n",
            "Requirement already satisfied: namex in /usr/local/lib/python3.11/dist-packages (from keras>=3.5.0->tensorflow) (0.0.9)\n",
            "Requirement already satisfied: optree in /usr/local/lib/python3.11/dist-packages (from keras>=3.5.0->tensorflow) (0.15.0)\n",
            "Requirement already satisfied: charset-normalizer<4,>=2 in /usr/local/lib/python3.11/dist-packages (from requests<3,>=2.21.0->tensorflow) (3.4.1)\n",
            "Requirement already satisfied: idna<4,>=2.5 in /usr/local/lib/python3.11/dist-packages (from requests<3,>=2.21.0->tensorflow) (3.10)\n",
            "Requirement already satisfied: urllib3<3,>=1.21.1 in /usr/local/lib/python3.11/dist-packages (from requests<3,>=2.21.0->tensorflow) (2.4.0)\n",
            "Requirement already satisfied: certifi>=2017.4.17 in /usr/local/lib/python3.11/dist-packages (from requests<3,>=2.21.0->tensorflow) (2025.4.26)\n",
            "Requirement already satisfied: markdown>=2.6.8 in /usr/local/lib/python3.11/dist-packages (from tensorboard<2.19,>=2.18->tensorflow) (3.8)\n",
            "Requirement already satisfied: tensorboard-data-server<0.8.0,>=0.7.0 in /usr/local/lib/python3.11/dist-packages (from tensorboard<2.19,>=2.18->tensorflow) (0.7.2)\n",
            "Requirement already satisfied: werkzeug>=1.0.1 in /usr/local/lib/python3.11/dist-packages (from tensorboard<2.19,>=2.18->tensorflow) (3.1.3)\n",
            "Requirement already satisfied: MarkupSafe>=2.1.1 in /usr/local/lib/python3.11/dist-packages (from werkzeug>=1.0.1->tensorboard<2.19,>=2.18->tensorflow) (3.0.2)\n",
            "Requirement already satisfied: markdown-it-py>=2.2.0 in /usr/local/lib/python3.11/dist-packages (from rich->keras>=3.5.0->tensorflow) (3.0.0)\n",
            "Requirement already satisfied: pygments<3.0.0,>=2.13.0 in /usr/local/lib/python3.11/dist-packages (from rich->keras>=3.5.0->tensorflow) (2.19.1)\n",
            "Requirement already satisfied: mdurl~=0.1 in /usr/local/lib/python3.11/dist-packages (from markdown-it-py>=2.2.0->rich->keras>=3.5.0->tensorflow) (0.1.2)\n"
          ]
        }
      ]
    },
    {
      "cell_type": "markdown",
      "source": [
        "# 🧠 EEGNet with Attention for Sleep Stage Classification\n",
        "\n",
        "This notebook implements a full deep learning pipeline for classifying sleep stages using EEG data from the **Sleep-EDF dataset**, leveraging a modified **EEGNet architecture with multi-head temporal attention**. The model is designed for efficient training and improved per-class performance, especially on hard-to-classify stages like **N1** and **REM**.\n",
        "\n",
        "---\n",
        "\n",
        "## ✅ **Key Features of This Notebook:**\n",
        "\n",
        "- 📥 **Automated data download** from PhysioNet's Sleep-EDF (Cassette + Telemetry) datasets\n",
        "- 🔄 **Data preprocessing**: filtering, resampling, epoching (30s), channel selection (`Fpz-Cz`, `Pz-Oz`)\n",
        "- 📊 **Data augmentation** with on-the-fly noise and time-shifted copies\n",
        "- 🧠 **EEGNet-based model** enhanced with **multi-head temporal attention**\n",
        "- ⚖️ **Class balancing** using sample weights\n",
        "- 🧪 **Evaluation**: accuracy, per-class F1, precision/recall, and confusion matrix\n",
        "- 📉 **Visualization** of training loss/accuracy curves and confusion matrix\n",
        "\n",
        "---\n",
        "\n",
        "## 📁 **Dataset**\n",
        "- **Source**: [PhysioNet Sleep-EDF](https://physionet.org/content/sleep-edfx/1.0.0/)\n",
        "- **EEG Channels Used**: `EEG Fpz-Cz`, `EEG Pz-Oz`\n",
        "- **Sleep Stages Classified**:\n",
        "  - 0 → Wake\n",
        "  - 1 → N1\n",
        "  - 2 → N2\n",
        "  - 3 → N3 (merged S3 + S4)\n",
        "  - 4 → REM\n",
        "\n",
        "---\n",
        "\n",
        "## 🚀 Hardware & Performance\n",
        "- Uses **mixed precision training** for GPU memory efficiency\n",
        "- Optimized for systems with **12GB RAM and ~15GB GPU VRAM**\n",
        "- Scalable across subjects and supports training on partial batches\n",
        "\n",
        "---\n",
        "\n",
        "## 📌 Author\n",
        "- **Samiksha BC**, Indiana University South Bend  \n",
        "- Final Year Independent Study Project | Master of Science in Computer Science\n",
        "\n",
        "---\n",
        "\n",
        "\n"
      ],
      "metadata": {
        "id": "6G3PpIMXbhF2"
      }
    },
    {
      "cell_type": "code",
      "source": [
        "\n",
        "\n",
        "\n",
        "'''\n",
        "EEGNet with Attention for Sleep Stage Classification\n",
        "\n",
        "This script implements a deep learning pipeline for classifying sleep stages\n",
        "(Wake, N1, N2, N3, REM) using EEG data from the Sleep-EDF dataset. It includes:\n",
        "- Memory-efficient data fetching and preprocessing with MNE\n",
        "- A custom EEGNet model with a temporal attention layer\n",
        "- On-the-fly and static augmentation for ~75,000-90,000 epochs\n",
        "- Batch processing and mixed precision for GPU efficiency\n",
        "- Comprehensive evaluation with accuracy, F1-score, and confusion matrix\n",
        "- Visualizations of training curves\n",
        "\n",
        "Optimized for 12GB RAM and 15GB GPU RAM, using ~5-7GB GPU memory.\n",
        "'''\n",
        "\n",
        "import numpy as np\n",
        "import tensorflow as tf\n",
        "from tensorflow.keras import layers, models\n",
        "from tensorflow.keras.utils import Sequence\n",
        "import mne\n",
        "import urllib.request\n",
        "import os\n",
        "from sklearn.model_selection import train_test_split\n",
        "from sklearn.utils.class_weight import compute_class_weight\n",
        "from sklearn.metrics import precision_recall_fscore_support, confusion_matrix\n",
        "from concurrent.futures import ThreadPoolExecutor\n",
        "from tqdm import tqdm\n",
        "import warnings\n",
        "import matplotlib.pyplot as plt\n",
        "import seaborn as sns\n",
        "import sklearn\n",
        "import gc\n",
        "\n",
        "from tensorflow.keras.mixed_precision import set_global_policy\n",
        "set_global_policy('mixed_float16')\n",
        "\n",
        "warnings.filterwarnings(\"ignore\", category=DeprecationWarning)\n",
        "mne.set_log_level('ERROR')\n",
        "\n",
        "NUM_SUBJECTS = 20\n",
        "NUM_NIGHTS = 2\n",
        "BASE_URL = \"https://physionet.org/files/sleep-edfx/1.0.0/\"\n",
        "TARGET_CHANNELS = ['EEG Fpz-Cz', 'EEG Pz-Oz']\n",
        "EPOCH_DURATION = 30\n",
        "BATCH_SIZE = 128\n",
        "EPOCHS = 50\n",
        "SAMPLING_RATE = 50\n",
        "\n",
        "TELEMETRY_SUBJECTS = [2, 4, 5, 6, 7, 12, 13]\n",
        "\n",
        "print(f\"scikit-learn version: {sklearn.__version__}\")\n",
        "\n",
        "def fetch_data(subject_id, night, record_type='PSG'):\n",
        "    try:\n",
        "        dataset_id = subject_id + 1\n",
        "        folder = \"sleep-cassette\" if night == 1 else \"sleep-telemetry\"\n",
        "\n",
        "        if night == 1:\n",
        "            prefix = f\"SC4{dataset_id:02d}\"\n",
        "        else:\n",
        "            if subject_id not in TELEMETRY_SUBJECTS:\n",
        "                return None\n",
        "            telemetry_map = {2: 702, 4: 704, 5: 705, 6: 706, 7: 707, 12: 712, 13: 713}\n",
        "            prefix = f\"ST{telemetry_map.get(subject_id, 700 + dataset_id)}\"\n",
        "\n",
        "        file_name = f\"{prefix}{night if night == 1 else 2}E0-PSG.edf\" if record_type == 'PSG' else \\\n",
        "                    f\"{prefix}{night if night == 1 else 2}EC-Hypnogram.edf\"\n",
        "        url = f\"{BASE_URL}{folder}/{file_name}\"\n",
        "        local_file = os.path.join(\"sleep_edf\", file_name)\n",
        "        os.makedirs(\"sleep_edf\", exist_ok=True)\n",
        "\n",
        "        if not os.path.exists(local_file):\n",
        "            urllib.request.urlretrieve(url, local_file)\n",
        "            print(f\"Downloaded {file_name}\")\n",
        "        return local_file\n",
        "    except urllib.error.HTTPError as e:\n",
        "        print(f\"HTTP Error {e.code} fetching {file_name}: {e.reason}\")\n",
        "        return None\n",
        "    except Exception as e:\n",
        "        print(f\"Error fetching {file_name}: {e}\")\n",
        "        return None\n",
        "\n",
        "def get_available_subjects():\n",
        "    available = []\n",
        "    with ThreadPoolExecutor(max_workers=10) as executor:\n",
        "        futures = []\n",
        "        for subject_id in range(NUM_SUBJECTS):\n",
        "            for night in range(1, NUM_NIGHTS + 1):\n",
        "                futures.append((\n",
        "                    subject_id,\n",
        "                    night,\n",
        "                    executor.submit(\n",
        "                        lambda s, n: (\n",
        "                            fetch_data(s, n, 'PSG') is not None and\n",
        "                            fetch_data(s, n, 'Hypnogram') is not None\n",
        "                        ),\n",
        "                        subject_id, night\n",
        "                    )\n",
        "                ))\n",
        "\n",
        "        for subject_id, night, future in tqdm(futures, desc=\"Checking availability\"):\n",
        "            if future.result():\n",
        "                available.append((subject_id, night))\n",
        "    print(f\"Available subject-night pairs: {available}\")\n",
        "    return available\n",
        "\n",
        "def augment_data(X):\n",
        "    noise = np.random.normal(0, 0.01, X.shape)\n",
        "    shift = np.random.randint(-50, 50)\n",
        "    X_aug = np.roll(X + noise, shift, axis=1)\n",
        "    return X_aug\n",
        "\n",
        "def process_subject_night(subject_id, night):\n",
        "    try:\n",
        "        psg_file = fetch_data(subject_id, night, 'PSG')\n",
        "        hypno_file = fetch_data(subject_id, night, 'Hypnogram')\n",
        "        if psg_file is None or hypno_file is None:\n",
        "            print(f\"Skipping subject {subject_id}, night {night}: Missing files\")\n",
        "            return None, None\n",
        "\n",
        "        raw = mne.io.read_raw_edf(psg_file, preload=False, verbose=False)\n",
        "        available_channels = [ch for ch in TARGET_CHANNELS if ch in raw.ch_names]\n",
        "        if not available_channels:\n",
        "            print(f\"No target channels for subject {subject_id}, night {night}\")\n",
        "            return None, None\n",
        "        raw.pick_channels(available_channels)\n",
        "\n",
        "        raw.load_data()\n",
        "        raw.filter(0.5, 40.0, l_trans_bandwidth=0.5, h_trans_bandwidth=10.0, verbose=False)\n",
        "        raw.resample(SAMPLING_RATE, npad=\"auto\")\n",
        "\n",
        "        events = mne.make_fixed_length_events(raw, id=1, duration=EPOCH_DURATION)\n",
        "        epochs_mne = mne.Epochs(raw, events, tmin=0, tmax=EPOCH_DURATION-1/raw.info['sfreq'],\n",
        "                                picks=available_channels, baseline=None, preload=True)\n",
        "        data = epochs_mne.get_data(units='uV')\n",
        "\n",
        "        annotations = mne.read_annotations(hypno_file)\n",
        "        labels = np.zeros(len(epochs_mne), dtype=int)\n",
        "        stage_map = {\n",
        "            'Sleep stage W': 0,\n",
        "            'Sleep stage 1': 1,\n",
        "            'Sleep stage 2': 2,\n",
        "            'Sleep stage 3': 3,\n",
        "            'Sleep stage 4': 3,\n",
        "            'Sleep stage R': 4\n",
        "        }\n",
        "\n",
        "        for annot in annotations:\n",
        "            onset = int(annot['onset'] / EPOCH_DURATION)\n",
        "            duration = int(annot['duration'] / EPOCH_DURATION)\n",
        "            stage = annot['description']\n",
        "            if stage in stage_map:\n",
        "                for i in range(max(0, onset), min(len(epochs_mne), onset + duration)):\n",
        "                    labels[i] = stage_map[stage]\n",
        "\n",
        "        data = (\n",
        "            (data - np.mean(data, axis=(1, 2), keepdims=True)) /\n",
        "            np.std(data, axis=(1, 2), keepdims=True)\n",
        "        )\n",
        "        X = data.transpose(0, 2, 1)\n",
        "        X_aug = augment_data(X)\n",
        "        X = np.concatenate([X, X_aug])\n",
        "        labels = np.concatenate([labels, labels])\n",
        "\n",
        "        del raw, epochs_mne, data\n",
        "        gc.collect()\n",
        "\n",
        "        print(f\"Processed subject {subject_id}, night {night}: {X.shape[0]} epochs\")\n",
        "        return X, labels\n",
        "    except Exception as e:\n",
        "        print(f\"Error processing subject {subject_id}, night {night}: {e}\")\n",
        "        return None, None\n",
        "\n",
        "class EEGDataGenerator(Sequence):\n",
        "    def __init__(self, X, y, batch_size, augment=True, class_weights=None):\n",
        "        self.X = X.astype(np.float32)\n",
        "        self.y = y.astype(np.int32)\n",
        "        self.batch_size = batch_size\n",
        "        self.augment = augment\n",
        "        self.class_weights = class_weights\n",
        "\n",
        "    def __len__(self):\n",
        "        return int(np.ceil(len(self.X) / self.batch_size))\n",
        "\n",
        "    def __getitem__(self, idx):\n",
        "        start = idx * self.batch_size\n",
        "        end = min(start + self.batch_size, len(self.X))\n",
        "        X_batch = self.X[start:end]\n",
        "        y_batch = self.y[start:end]\n",
        "\n",
        "        if self.augment:\n",
        "            X_batch = augment_data(X_batch).astype(np.float32)\n",
        "\n",
        "        sample_weights = np.ones_like(y_batch, dtype=np.float32)\n",
        "        if self.class_weights:\n",
        "            sample_weights = np.array([self.class_weights[label] for label in y_batch], dtype=np.float32)\n",
        "\n",
        "        return X_batch, y_batch, sample_weights\n",
        "\n",
        "class TemporalAttention(layers.Layer):\n",
        "    def __init__(self, heads=4, key_dim=24):\n",
        "        super().__init__()\n",
        "        self.multi_head = layers.MultiHeadAttention(num_heads=heads, key_dim=key_dim)\n",
        "        self.norm = layers.LayerNormalization()\n",
        "        self.add = layers.Add()\n",
        "\n",
        "    def call(self, inputs):\n",
        "        attn_output = self.multi_head(inputs, inputs)\n",
        "        out = self.add([inputs, attn_output])\n",
        "        return self.norm(out)\n",
        "\n",
        "def build_eegnet_attention(input_shape):\n",
        "    inputs = layers.Input(shape=input_shape)\n",
        "    x = layers.Conv1D(64, 7, padding='same', activation='relu')(inputs)\n",
        "    x = layers.BatchNormalization()(x)\n",
        "    x = layers.MaxPooling1D(pool_size=2)(x)\n",
        "    x = layers.Conv1D(128, 7, padding='same', activation='relu')(x)\n",
        "    x = layers.BatchNormalization()(x)\n",
        "    x = layers.MaxPooling1D(pool_size=2)(x)\n",
        "    x = TemporalAttention(heads=4, key_dim=24)(x)\n",
        "    x = layers.BatchNormalization()(x)\n",
        "    x = layers.GlobalAveragePooling1D()(x)\n",
        "    x = layers.Dense(128, activation='relu')(x)\n",
        "    x = layers.Dropout(0.3)(x)\n",
        "    outputs = layers.Dense(5, activation='softmax', dtype='float32')(x)\n",
        "\n",
        "    model = models.Model(inputs=inputs, outputs=outputs)\n",
        "    model.compile(optimizer=tf.keras.optimizers.Adam(0.0005),\n",
        "                  loss='sparse_categorical_crossentropy',\n",
        "                  metrics=['accuracy'])\n",
        "    return model\n",
        "\n",
        "def plot_training_curves(history):\n",
        "    plt.figure(figsize=(12, 4))\n",
        "    plt.subplot(1, 2, 1)\n",
        "    plt.plot(history.history['accuracy'], label='Train Accuracy')\n",
        "    plt.plot(history.history['val_accuracy'], label='Validation Accuracy')\n",
        "    plt.title('Model Accuracy')\n",
        "    plt.xlabel('Epoch')\n",
        "    plt.ylabel('Accuracy')\n",
        "    plt.legend()\n",
        "\n",
        "    plt.subplot(1, 2, 2)\n",
        "    plt.plot(history.history['loss'], label='Train Loss')\n",
        "    plt.plot(history.history['val_loss'], label='Validation Loss')\n",
        "    plt.title('Model Loss')\n",
        "    plt.xlabel('Epoch')\n",
        "    plt.ylabel('Loss')\n",
        "    plt.legend()\n",
        "    plt.tight_layout()\n",
        "    plt.savefig('training_curves.png')\n",
        "    plt.close()\n",
        "\n",
        "def evaluate_model(model, X_test, y_test):\n",
        "    test_loss, test_acc = model.evaluate(X_test, y_test, verbose=0)\n",
        "    print(f\"\\nTest Accuracy: {test_acc:.4f}\")\n",
        "    print(f\"Test Loss: {test_loss:.4f}\")\n",
        "\n",
        "    y_pred = model.predict(X_test, verbose=0)\n",
        "    y_pred_classes = np.argmax(y_pred, axis=1)\n",
        "    precision, recall, f1, _ = precision_recall_fscore_support(y_test, y_pred_classes, average=None)\n",
        "    stage_names = ['Wake', 'N1', 'N2', 'N3', 'REM']\n",
        "    print(\"\\nPer-class Metrics:\")\n",
        "    for i, stage in enumerate(stage_names):\n",
        "        print(f\"{stage}: Precision={precision[i]:.4f}, Recall={recall[i]:.4f}, F1={f1[i]:.4f}\")\n",
        "\n",
        "    cm = confusion_matrix(y_test, y_pred_classes)\n",
        "    plt.figure(figsize=(8, 6))\n",
        "    sns.heatmap(cm, annot=True, fmt='d', cmap='Blues', xticklabels=stage_names, yticklabels=stage_names)\n",
        "    plt.xlabel('Predicted')\n",
        "    plt.ylabel('True')\n",
        "    plt.title('Confusion Matrix')\n",
        "    plt.savefig('confusion_matrix.png')\n",
        "    plt.close()\n",
        "\n",
        "def data_generator(available, batch_size=2000):\n",
        "    for subject_id, night in available:\n",
        "        X, y = process_subject_night(subject_id, night)\n",
        "        if X is None or y is None:\n",
        "            continue\n",
        "        for i in range(0, len(X), batch_size):\n",
        "            yield X[i:i+batch_size], y[i:i+batch_size]\n",
        "        del X, y\n",
        "        gc.collect()\n",
        "\n",
        "def run_pipeline():\n",
        "    available = get_available_subjects()\n",
        "    if not available:\n",
        "        return\n",
        "\n",
        "    X_train, y_train, X_test, y_test = [], [], [], []\n",
        "    for X_batch, y_batch in tqdm(data_generator(available), desc=\"Processing data\"):\n",
        "        if X_batch is None or y_batch is None:\n",
        "            continue\n",
        "        class_counts = np.bincount(y_batch)\n",
        "        stratify = y_batch if min(class_counts[class_counts > 0]) >= 2 else None\n",
        "        X_tr, X_te, y_tr, y_te = train_test_split(X_batch, y_batch, test_size=0.2, stratify=stratify, random_state=42)\n",
        "        X_train.append(X_tr); y_train.append(y_tr)\n",
        "        X_test.append(X_te); y_test.append(y_te)\n",
        "        del X_batch, y_batch\n",
        "        gc.collect()\n",
        "\n",
        "    if not X_train:\n",
        "        return\n",
        "\n",
        "    X_train = np.concatenate(X_train)\n",
        "    y_train = np.concatenate(y_train)\n",
        "    X_test = np.concatenate(X_test)\n",
        "    y_test = np.concatenate(y_test)\n",
        "\n",
        "    class_weights = compute_class_weight('balanced', classes=np.unique(y_train), y=y_train)\n",
        "    class_weight_dict = dict(enumerate(class_weights))\n",
        "\n",
        "    model = build_eegnet_attention(input_shape=(X_train.shape[1], X_train.shape[2]))\n",
        "    train_generator = EEGDataGenerator(X_train, y_train, BATCH_SIZE, augment=True, class_weights=class_weight_dict)\n",
        "    val_generator = EEGDataGenerator(X_test, y_test, BATCH_SIZE, augment=False, class_weights=class_weight_dict)\n",
        "\n",
        "    history = model.fit(train_generator, validation_data=val_generator, epochs=EPOCHS, verbose=1)\n",
        "\n",
        "    plot_training_curves(history)\n",
        "    evaluate_model(model, X_test, y_test)\n",
        "\n",
        "if __name__ == \"__main__\":\n",
        "    run_pipeline()\n",
        "\n",
        "\n",
        "\n",
        "\n",
        "\n"
      ],
      "metadata": {
        "colab": {
          "base_uri": "https://localhost:8080/"
        },
        "id": "fkLc7c9b3VQx",
        "outputId": "d12298fa-6f1a-4bab-9244-1d0eb46cdc2c"
      },
      "execution_count": null,
      "outputs": [
        {
          "output_type": "stream",
          "name": "stdout",
          "text": [
            "scikit-learn version: 1.6.1\n"
          ]
        },
        {
          "output_type": "stream",
          "name": "stderr",
          "text": [
            "Checking availability:  15%|█▌        | 6/40 [00:00<00:02, 14.60it/s]"
          ]
        },
        {
          "output_type": "stream",
          "name": "stdout",
          "text": [
            "HTTP Error 404 fetching SC4021EC-Hypnogram.edf: Not Found\n",
            "HTTP Error 404 fetching ST7132E0-PSG.edf: Not Found\n",
            "HTTP Error 404 fetching ST7052E0-PSG.edf: Not Found\n",
            "HTTP Error 404 fetching SC4011EC-Hypnogram.edf: Not Found\n",
            "HTTP Error 404 fetching SC4141EC-Hypnogram.edf: Not Found\n",
            "HTTP Error 404 fetching ST7062E0-PSG.edf: Not Found\n",
            "HTTP Error 404 fetching ST7122E0-PSG.edf: Not Found\n",
            "HTTP Error 404 fetching ST7072E0-PSG.edf: Not Found\n",
            "HTTP Error 404 fetching ST7042E0-PSG.edf: Not Found\n",
            "HTTP Error 404 fetching ST7022E0-PSG.edf: Not Found\n"
          ]
        },
        {
          "output_type": "stream",
          "name": "stderr",
          "text": [
            "\rChecking availability:  82%|████████▎ | 33/40 [00:00<00:00, 79.19it/s]"
          ]
        },
        {
          "output_type": "stream",
          "name": "stdout",
          "text": [
            "HTTP Error 404 fetching SC4171EC-Hypnogram.edf: Not Found\n",
            "HTTP Error 404 fetching SC4191EC-Hypnogram.edf: Not Found\n"
          ]
        },
        {
          "output_type": "stream",
          "name": "stderr",
          "text": [
            "\rChecking availability:  82%|████████▎ | 33/40 [00:17<00:00, 79.19it/s]"
          ]
        },
        {
          "output_type": "stream",
          "name": "stdout",
          "text": [
            "Downloaded SC4201E0-PSG.edf\n"
          ]
        },
        {
          "output_type": "stream",
          "name": "stderr",
          "text": [
            "Checking availability: 100%|██████████| 40/40 [01:32<00:00,  2.30s/it]\n"
          ]
        },
        {
          "output_type": "stream",
          "name": "stdout",
          "text": [
            "Downloaded SC4201EC-Hypnogram.edf\n",
            "Available subject-night pairs: [(2, 1), (3, 1), (4, 1), (5, 1), (6, 1), (7, 1), (8, 1), (9, 1), (10, 1), (11, 1), (12, 1), (14, 1), (15, 1), (17, 1), (19, 1)]\n"
          ]
        },
        {
          "output_type": "stream",
          "name": "stderr",
          "text": [
            "\rProcessing data: 0it [00:00, ?it/s]<ipython-input-4-4aaa12c2cc3f>:121: RuntimeWarning: Channels contain different highpass filters. Highest filter setting will be stored.\n",
            "  raw = mne.io.read_raw_edf(psg_file, preload=False, verbose=False)\n",
            "<ipython-input-4-4aaa12c2cc3f>:121: RuntimeWarning: Channels contain different lowpass filters. Lowest filter setting will be stored.\n",
            "  raw = mne.io.read_raw_edf(psg_file, preload=False, verbose=False)\n",
            "<ipython-input-4-4aaa12c2cc3f>:121: RuntimeWarning: Highpass cutoff frequency 16.0 is greater than lowpass cutoff frequency 0.7, setting values to 0 and Nyquist.\n",
            "  raw = mne.io.read_raw_edf(psg_file, preload=False, verbose=False)\n"
          ]
        },
        {
          "output_type": "stream",
          "name": "stdout",
          "text": [
            "Processed subject 2, night 1: 5640 epochs\n"
          ]
        },
        {
          "output_type": "stream",
          "name": "stderr",
          "text": [
            "Processing data: 3it [00:05,  1.39s/it]<ipython-input-4-4aaa12c2cc3f>:121: RuntimeWarning: Channels contain different highpass filters. Highest filter setting will be stored.\n",
            "  raw = mne.io.read_raw_edf(psg_file, preload=False, verbose=False)\n",
            "<ipython-input-4-4aaa12c2cc3f>:121: RuntimeWarning: Channels contain different lowpass filters. Lowest filter setting will be stored.\n",
            "  raw = mne.io.read_raw_edf(psg_file, preload=False, verbose=False)\n",
            "<ipython-input-4-4aaa12c2cc3f>:121: RuntimeWarning: Highpass cutoff frequency 16.0 is greater than lowpass cutoff frequency 0.7, setting values to 0 and Nyquist.\n",
            "  raw = mne.io.read_raw_edf(psg_file, preload=False, verbose=False)\n"
          ]
        },
        {
          "output_type": "stream",
          "name": "stdout",
          "text": [
            "Processed subject 3, night 1: 5140 epochs\n"
          ]
        },
        {
          "output_type": "stream",
          "name": "stderr",
          "text": [
            "Processing data: 6it [00:10,  1.15s/it]<ipython-input-4-4aaa12c2cc3f>:121: RuntimeWarning: Channels contain different highpass filters. Highest filter setting will be stored.\n",
            "  raw = mne.io.read_raw_edf(psg_file, preload=False, verbose=False)\n",
            "<ipython-input-4-4aaa12c2cc3f>:121: RuntimeWarning: Channels contain different lowpass filters. Lowest filter setting will be stored.\n",
            "  raw = mne.io.read_raw_edf(psg_file, preload=False, verbose=False)\n",
            "<ipython-input-4-4aaa12c2cc3f>:121: RuntimeWarning: Highpass cutoff frequency 16.0 is greater than lowpass cutoff frequency 0.7, setting values to 0 and Nyquist.\n",
            "  raw = mne.io.read_raw_edf(psg_file, preload=False, verbose=False)\n"
          ]
        },
        {
          "output_type": "stream",
          "name": "stdout",
          "text": [
            "Processed subject 4, night 1: 5444 epochs\n"
          ]
        },
        {
          "output_type": "stream",
          "name": "stderr",
          "text": [
            "Processing data: 9it [00:14,  1.09s/it]<ipython-input-4-4aaa12c2cc3f>:121: RuntimeWarning: Channels contain different highpass filters. Highest filter setting will be stored.\n",
            "  raw = mne.io.read_raw_edf(psg_file, preload=False, verbose=False)\n",
            "<ipython-input-4-4aaa12c2cc3f>:121: RuntimeWarning: Channels contain different lowpass filters. Lowest filter setting will be stored.\n",
            "  raw = mne.io.read_raw_edf(psg_file, preload=False, verbose=False)\n",
            "<ipython-input-4-4aaa12c2cc3f>:121: RuntimeWarning: Highpass cutoff frequency 16.0 is greater than lowpass cutoff frequency 0.7, setting values to 0 and Nyquist.\n",
            "  raw = mne.io.read_raw_edf(psg_file, preload=False, verbose=False)\n"
          ]
        },
        {
          "output_type": "stream",
          "name": "stdout",
          "text": [
            "Processed subject 5, night 1: 5540 epochs\n"
          ]
        },
        {
          "output_type": "stream",
          "name": "stderr",
          "text": [
            "Processing data: 12it [00:18,  1.04s/it]<ipython-input-4-4aaa12c2cc3f>:121: RuntimeWarning: Channels contain different highpass filters. Highest filter setting will be stored.\n",
            "  raw = mne.io.read_raw_edf(psg_file, preload=False, verbose=False)\n",
            "<ipython-input-4-4aaa12c2cc3f>:121: RuntimeWarning: Channels contain different lowpass filters. Lowest filter setting will be stored.\n",
            "  raw = mne.io.read_raw_edf(psg_file, preload=False, verbose=False)\n",
            "<ipython-input-4-4aaa12c2cc3f>:121: RuntimeWarning: Highpass cutoff frequency 16.0 is greater than lowpass cutoff frequency 0.7, setting values to 0 and Nyquist.\n",
            "  raw = mne.io.read_raw_edf(psg_file, preload=False, verbose=False)\n"
          ]
        },
        {
          "output_type": "stream",
          "name": "stdout",
          "text": [
            "Processed subject 6, night 1: 5620 epochs\n"
          ]
        },
        {
          "output_type": "stream",
          "name": "stderr",
          "text": [
            "Processing data: 15it [00:24,  1.30s/it]<ipython-input-4-4aaa12c2cc3f>:121: RuntimeWarning: Channels contain different highpass filters. Highest filter setting will be stored.\n",
            "  raw = mne.io.read_raw_edf(psg_file, preload=False, verbose=False)\n",
            "<ipython-input-4-4aaa12c2cc3f>:121: RuntimeWarning: Channels contain different lowpass filters. Lowest filter setting will be stored.\n",
            "  raw = mne.io.read_raw_edf(psg_file, preload=False, verbose=False)\n",
            "<ipython-input-4-4aaa12c2cc3f>:121: RuntimeWarning: Highpass cutoff frequency 16.0 is greater than lowpass cutoff frequency 0.7, setting values to 0 and Nyquist.\n",
            "  raw = mne.io.read_raw_edf(psg_file, preload=False, verbose=False)\n"
          ]
        },
        {
          "output_type": "stream",
          "name": "stdout",
          "text": [
            "Processed subject 7, night 1: 5592 epochs\n"
          ]
        },
        {
          "output_type": "stream",
          "name": "stderr",
          "text": [
            "Processing data: 18it [00:28,  1.12s/it]<ipython-input-4-4aaa12c2cc3f>:121: RuntimeWarning: Channels contain different highpass filters. Highest filter setting will be stored.\n",
            "  raw = mne.io.read_raw_edf(psg_file, preload=False, verbose=False)\n",
            "<ipython-input-4-4aaa12c2cc3f>:121: RuntimeWarning: Channels contain different lowpass filters. Lowest filter setting will be stored.\n",
            "  raw = mne.io.read_raw_edf(psg_file, preload=False, verbose=False)\n",
            "<ipython-input-4-4aaa12c2cc3f>:121: RuntimeWarning: Highpass cutoff frequency 16.0 is greater than lowpass cutoff frequency 0.7, setting values to 0 and Nyquist.\n",
            "  raw = mne.io.read_raw_edf(psg_file, preload=False, verbose=False)\n"
          ]
        },
        {
          "output_type": "stream",
          "name": "stdout",
          "text": [
            "Processed subject 8, night 1: 5464 epochs\n"
          ]
        },
        {
          "output_type": "stream",
          "name": "stderr",
          "text": [
            "Processing data: 21it [00:33,  1.05s/it]<ipython-input-4-4aaa12c2cc3f>:121: RuntimeWarning: Channels contain different highpass filters. Highest filter setting will be stored.\n",
            "  raw = mne.io.read_raw_edf(psg_file, preload=False, verbose=False)\n",
            "<ipython-input-4-4aaa12c2cc3f>:121: RuntimeWarning: Channels contain different lowpass filters. Lowest filter setting will be stored.\n",
            "  raw = mne.io.read_raw_edf(psg_file, preload=False, verbose=False)\n",
            "<ipython-input-4-4aaa12c2cc3f>:121: RuntimeWarning: Highpass cutoff frequency 16.0 is greater than lowpass cutoff frequency 0.7, setting values to 0 and Nyquist.\n",
            "  raw = mne.io.read_raw_edf(psg_file, preload=False, verbose=False)\n"
          ]
        },
        {
          "output_type": "stream",
          "name": "stdout",
          "text": [
            "Processed subject 9, night 1: 5440 epochs\n"
          ]
        },
        {
          "output_type": "stream",
          "name": "stderr",
          "text": [
            "Processing data: 24it [00:37,  1.10s/it]<ipython-input-4-4aaa12c2cc3f>:121: RuntimeWarning: Channels contain different highpass filters. Highest filter setting will be stored.\n",
            "  raw = mne.io.read_raw_edf(psg_file, preload=False, verbose=False)\n",
            "<ipython-input-4-4aaa12c2cc3f>:121: RuntimeWarning: Channels contain different lowpass filters. Lowest filter setting will be stored.\n",
            "  raw = mne.io.read_raw_edf(psg_file, preload=False, verbose=False)\n",
            "<ipython-input-4-4aaa12c2cc3f>:121: RuntimeWarning: Highpass cutoff frequency 16.0 is greater than lowpass cutoff frequency 0.7, setting values to 0 and Nyquist.\n",
            "  raw = mne.io.read_raw_edf(psg_file, preload=False, verbose=False)\n"
          ]
        },
        {
          "output_type": "stream",
          "name": "stdout",
          "text": [
            "Processed subject 10, night 1: 5284 epochs\n"
          ]
        },
        {
          "output_type": "stream",
          "name": "stderr",
          "text": [
            "Processing data: 27it [00:41,  1.03s/it]<ipython-input-4-4aaa12c2cc3f>:121: RuntimeWarning: Channels contain different highpass filters. Highest filter setting will be stored.\n",
            "  raw = mne.io.read_raw_edf(psg_file, preload=False, verbose=False)\n",
            "<ipython-input-4-4aaa12c2cc3f>:121: RuntimeWarning: Channels contain different lowpass filters. Lowest filter setting will be stored.\n",
            "  raw = mne.io.read_raw_edf(psg_file, preload=False, verbose=False)\n",
            "<ipython-input-4-4aaa12c2cc3f>:121: RuntimeWarning: Highpass cutoff frequency 16.0 is greater than lowpass cutoff frequency 0.7, setting values to 0 and Nyquist.\n",
            "  raw = mne.io.read_raw_edf(psg_file, preload=False, verbose=False)\n"
          ]
        },
        {
          "output_type": "stream",
          "name": "stdout",
          "text": [
            "Processed subject 11, night 1: 5572 epochs\n"
          ]
        },
        {
          "output_type": "stream",
          "name": "stderr",
          "text": [
            "Processing data: 30it [00:46,  1.06s/it]<ipython-input-4-4aaa12c2cc3f>:121: RuntimeWarning: Channels contain different highpass filters. Highest filter setting will be stored.\n",
            "  raw = mne.io.read_raw_edf(psg_file, preload=False, verbose=False)\n",
            "<ipython-input-4-4aaa12c2cc3f>:121: RuntimeWarning: Channels contain different lowpass filters. Lowest filter setting will be stored.\n",
            "  raw = mne.io.read_raw_edf(psg_file, preload=False, verbose=False)\n",
            "<ipython-input-4-4aaa12c2cc3f>:121: RuntimeWarning: Highpass cutoff frequency 16.0 is greater than lowpass cutoff frequency 0.7, setting values to 0 and Nyquist.\n",
            "  raw = mne.io.read_raw_edf(psg_file, preload=False, verbose=False)\n"
          ]
        },
        {
          "output_type": "stream",
          "name": "stdout",
          "text": [
            "Processed subject 12, night 1: 5628 epochs\n"
          ]
        },
        {
          "output_type": "stream",
          "name": "stderr",
          "text": [
            "Processing data: 33it [00:52,  1.28s/it]<ipython-input-4-4aaa12c2cc3f>:121: RuntimeWarning: Channels contain different highpass filters. Highest filter setting will be stored.\n",
            "  raw = mne.io.read_raw_edf(psg_file, preload=False, verbose=False)\n",
            "<ipython-input-4-4aaa12c2cc3f>:121: RuntimeWarning: Channels contain different lowpass filters. Lowest filter setting will be stored.\n",
            "  raw = mne.io.read_raw_edf(psg_file, preload=False, verbose=False)\n",
            "<ipython-input-4-4aaa12c2cc3f>:121: RuntimeWarning: Highpass cutoff frequency 16.0 is greater than lowpass cutoff frequency 0.7, setting values to 0 and Nyquist.\n",
            "  raw = mne.io.read_raw_edf(psg_file, preload=False, verbose=False)\n"
          ]
        },
        {
          "output_type": "stream",
          "name": "stdout",
          "text": [
            "Processed subject 14, night 1: 5240 epochs\n"
          ]
        },
        {
          "output_type": "stream",
          "name": "stderr",
          "text": [
            "Processing data: 36it [00:56,  1.09s/it]<ipython-input-4-4aaa12c2cc3f>:121: RuntimeWarning: Channels contain different highpass filters. Highest filter setting will be stored.\n",
            "  raw = mne.io.read_raw_edf(psg_file, preload=False, verbose=False)\n",
            "<ipython-input-4-4aaa12c2cc3f>:121: RuntimeWarning: Channels contain different lowpass filters. Lowest filter setting will be stored.\n",
            "  raw = mne.io.read_raw_edf(psg_file, preload=False, verbose=False)\n",
            "<ipython-input-4-4aaa12c2cc3f>:121: RuntimeWarning: Highpass cutoff frequency 16.0 is greater than lowpass cutoff frequency 0.7, setting values to 0 and Nyquist.\n",
            "  raw = mne.io.read_raw_edf(psg_file, preload=False, verbose=False)\n"
          ]
        },
        {
          "output_type": "stream",
          "name": "stdout",
          "text": [
            "Processed subject 15, night 1: 5252 epochs\n"
          ]
        },
        {
          "output_type": "stream",
          "name": "stderr",
          "text": [
            "Processing data: 39it [01:00,  1.11s/it]<ipython-input-4-4aaa12c2cc3f>:121: RuntimeWarning: Channels contain different highpass filters. Highest filter setting will be stored.\n",
            "  raw = mne.io.read_raw_edf(psg_file, preload=False, verbose=False)\n",
            "<ipython-input-4-4aaa12c2cc3f>:121: RuntimeWarning: Channels contain different lowpass filters. Lowest filter setting will be stored.\n",
            "  raw = mne.io.read_raw_edf(psg_file, preload=False, verbose=False)\n",
            "<ipython-input-4-4aaa12c2cc3f>:121: RuntimeWarning: Highpass cutoff frequency 16.0 is greater than lowpass cutoff frequency 0.7, setting values to 0 and Nyquist.\n",
            "  raw = mne.io.read_raw_edf(psg_file, preload=False, verbose=False)\n"
          ]
        },
        {
          "output_type": "stream",
          "name": "stdout",
          "text": [
            "Processed subject 17, night 1: 5512 epochs\n"
          ]
        },
        {
          "output_type": "stream",
          "name": "stderr",
          "text": [
            "Processing data: 42it [01:04,  1.04s/it]<ipython-input-4-4aaa12c2cc3f>:121: RuntimeWarning: Channels contain different highpass filters. Highest filter setting will be stored.\n",
            "  raw = mne.io.read_raw_edf(psg_file, preload=False, verbose=False)\n",
            "<ipython-input-4-4aaa12c2cc3f>:121: RuntimeWarning: Channels contain different lowpass filters. Lowest filter setting will be stored.\n",
            "  raw = mne.io.read_raw_edf(psg_file, preload=False, verbose=False)\n",
            "<ipython-input-4-4aaa12c2cc3f>:121: RuntimeWarning: Highpass cutoff frequency 16.0 is greater than lowpass cutoff frequency 0.7, setting values to 0 and Nyquist.\n",
            "  raw = mne.io.read_raw_edf(psg_file, preload=False, verbose=False)\n"
          ]
        },
        {
          "output_type": "stream",
          "name": "stdout",
          "text": [
            "Processed subject 19, night 1: 5608 epochs\n"
          ]
        },
        {
          "output_type": "stream",
          "name": "stderr",
          "text": [
            "Processing data: 45it [01:10,  1.57s/it]\n"
          ]
        },
        {
          "output_type": "stream",
          "name": "stdout",
          "text": [
            "Epoch 1/50\n"
          ]
        },
        {
          "output_type": "stream",
          "name": "stderr",
          "text": [
            "/usr/local/lib/python3.11/dist-packages/keras/src/trainers/data_adapters/py_dataset_adapter.py:121: UserWarning: Your `PyDataset` class should call `super().__init__(**kwargs)` in its constructor. `**kwargs` can include `workers`, `use_multiprocessing`, `max_queue_size`. Do not pass these arguments to `fit()`, as they will be ignored.\n",
            "  self._warn_if_super_not_called()\n"
          ]
        },
        {
          "output_type": "stream",
          "name": "stdout",
          "text": [
            "\u001b[1m513/513\u001b[0m \u001b[32m━━━━━━━━━━━━━━━━━━━━\u001b[0m\u001b[37m\u001b[0m \u001b[1m39s\u001b[0m 50ms/step - accuracy: 0.7763 - loss: 0.7913 - val_accuracy: 0.8523 - val_loss: 0.5651\n",
            "Epoch 2/50\n",
            "\u001b[1m513/513\u001b[0m \u001b[32m━━━━━━━━━━━━━━━━━━━━\u001b[0m\u001b[37m\u001b[0m \u001b[1m16s\u001b[0m 31ms/step - accuracy: 0.8893 - loss: 0.4789 - val_accuracy: 0.8712 - val_loss: 0.4684\n",
            "Epoch 3/50\n",
            "\u001b[1m513/513\u001b[0m \u001b[32m━━━━━━━━━━━━━━━━━━━━\u001b[0m\u001b[37m\u001b[0m \u001b[1m16s\u001b[0m 32ms/step - accuracy: 0.8993 - loss: 0.4367 - val_accuracy: 0.8910 - val_loss: 0.4174\n",
            "Epoch 4/50\n",
            "\u001b[1m513/513\u001b[0m \u001b[32m━━━━━━━━━━━━━━━━━━━━\u001b[0m\u001b[37m\u001b[0m \u001b[1m16s\u001b[0m 31ms/step - accuracy: 0.9051 - loss: 0.4154 - val_accuracy: 0.8766 - val_loss: 0.4941\n",
            "Epoch 5/50\n",
            "\u001b[1m513/513\u001b[0m \u001b[32m━━━━━━━━━━━━━━━━━━━━\u001b[0m\u001b[37m\u001b[0m \u001b[1m16s\u001b[0m 32ms/step - accuracy: 0.9143 - loss: 0.3788 - val_accuracy: 0.9207 - val_loss: 0.5186\n",
            "Epoch 6/50\n",
            "\u001b[1m513/513\u001b[0m \u001b[32m━━━━━━━━━━━━━━━━━━━━\u001b[0m\u001b[37m\u001b[0m \u001b[1m16s\u001b[0m 32ms/step - accuracy: 0.9212 - loss: 0.3528 - val_accuracy: 0.9116 - val_loss: 0.4058\n",
            "Epoch 7/50\n",
            "\u001b[1m513/513\u001b[0m \u001b[32m━━━━━━━━━━━━━━━━━━━━\u001b[0m\u001b[37m\u001b[0m \u001b[1m16s\u001b[0m 32ms/step - accuracy: 0.9238 - loss: 0.3400 - val_accuracy: 0.9233 - val_loss: 0.3754\n",
            "Epoch 8/50\n",
            "\u001b[1m513/513\u001b[0m \u001b[32m━━━━━━━━━━━━━━━━━━━━\u001b[0m\u001b[37m\u001b[0m \u001b[1m17s\u001b[0m 32ms/step - accuracy: 0.9233 - loss: 0.3320 - val_accuracy: 0.9113 - val_loss: 0.3984\n",
            "Epoch 9/50\n",
            "\u001b[1m513/513\u001b[0m \u001b[32m━━━━━━━━━━━━━━━━━━━━\u001b[0m\u001b[37m\u001b[0m \u001b[1m17s\u001b[0m 32ms/step - accuracy: 0.9267 - loss: 0.3053 - val_accuracy: 0.9027 - val_loss: 0.4527\n",
            "Epoch 10/50\n",
            "\u001b[1m513/513\u001b[0m \u001b[32m━━━━━━━━━━━━━━━━━━━━\u001b[0m\u001b[37m\u001b[0m \u001b[1m17s\u001b[0m 32ms/step - accuracy: 0.9307 - loss: 0.2991 - val_accuracy: 0.8982 - val_loss: 0.3708\n",
            "Epoch 11/50\n",
            "\u001b[1m513/513\u001b[0m \u001b[32m━━━━━━━━━━━━━━━━━━━━\u001b[0m\u001b[37m\u001b[0m \u001b[1m17s\u001b[0m 32ms/step - accuracy: 0.9326 - loss: 0.2742 - val_accuracy: 0.9193 - val_loss: 0.3686\n",
            "Epoch 12/50\n",
            "\u001b[1m513/513\u001b[0m \u001b[32m━━━━━━━━━━━━━━━━━━━━\u001b[0m\u001b[37m\u001b[0m \u001b[1m17s\u001b[0m 32ms/step - accuracy: 0.9342 - loss: 0.2625 - val_accuracy: 0.8765 - val_loss: 0.4073\n",
            "Epoch 13/50\n",
            "\u001b[1m513/513\u001b[0m \u001b[32m━━━━━━━━━━━━━━━━━━━━\u001b[0m\u001b[37m\u001b[0m \u001b[1m17s\u001b[0m 32ms/step - accuracy: 0.9329 - loss: 0.2614 - val_accuracy: 0.9090 - val_loss: 0.4367\n",
            "Epoch 14/50\n",
            "\u001b[1m513/513\u001b[0m \u001b[32m━━━━━━━━━━━━━━━━━━━━\u001b[0m\u001b[37m\u001b[0m \u001b[1m17s\u001b[0m 32ms/step - accuracy: 0.9336 - loss: 0.2513 - val_accuracy: 0.9232 - val_loss: 0.3720\n",
            "Epoch 15/50\n",
            "\u001b[1m513/513\u001b[0m \u001b[32m━━━━━━━━━━━━━━━━━━━━\u001b[0m\u001b[37m\u001b[0m \u001b[1m17s\u001b[0m 32ms/step - accuracy: 0.9399 - loss: 0.2321 - val_accuracy: 0.9251 - val_loss: 0.3592\n",
            "Epoch 16/50\n",
            "\u001b[1m513/513\u001b[0m \u001b[32m━━━━━━━━━━━━━━━━━━━━\u001b[0m\u001b[37m\u001b[0m \u001b[1m17s\u001b[0m 32ms/step - accuracy: 0.9387 - loss: 0.2270 - val_accuracy: 0.9258 - val_loss: 0.3626\n",
            "Epoch 17/50\n",
            "\u001b[1m513/513\u001b[0m \u001b[32m━━━━━━━━━━━━━━━━━━━━\u001b[0m\u001b[37m\u001b[0m \u001b[1m17s\u001b[0m 33ms/step - accuracy: 0.9416 - loss: 0.2227 - val_accuracy: 0.9279 - val_loss: 0.3472\n",
            "Epoch 18/50\n",
            "\u001b[1m513/513\u001b[0m \u001b[32m━━━━━━━━━━━━━━━━━━━━\u001b[0m\u001b[37m\u001b[0m \u001b[1m20s\u001b[0m 33ms/step - accuracy: 0.9421 - loss: 0.2151 - val_accuracy: 0.9301 - val_loss: 0.3836\n",
            "Epoch 19/50\n",
            "\u001b[1m513/513\u001b[0m \u001b[32m━━━━━━━━━━━━━━━━━━━━\u001b[0m\u001b[37m\u001b[0m \u001b[1m17s\u001b[0m 33ms/step - accuracy: 0.9492 - loss: 0.1877 - val_accuracy: 0.9065 - val_loss: 0.4162\n",
            "Epoch 20/50\n",
            "\u001b[1m513/513\u001b[0m \u001b[32m━━━━━━━━━━━━━━━━━━━━\u001b[0m\u001b[37m\u001b[0m \u001b[1m17s\u001b[0m 32ms/step - accuracy: 0.9436 - loss: 0.2053 - val_accuracy: 0.9287 - val_loss: 0.4187\n",
            "Epoch 21/50\n",
            "\u001b[1m513/513\u001b[0m \u001b[32m━━━━━━━━━━━━━━━━━━━━\u001b[0m\u001b[37m\u001b[0m \u001b[1m17s\u001b[0m 33ms/step - accuracy: 0.9443 - loss: 0.2097 - val_accuracy: 0.9372 - val_loss: 0.3749\n",
            "Epoch 22/50\n",
            "\u001b[1m513/513\u001b[0m \u001b[32m━━━━━━━━━━━━━━━━━━━━\u001b[0m\u001b[37m\u001b[0m \u001b[1m17s\u001b[0m 33ms/step - accuracy: 0.9494 - loss: 0.1776 - val_accuracy: 0.9357 - val_loss: 0.3693\n",
            "Epoch 23/50\n",
            "\u001b[1m513/513\u001b[0m \u001b[32m━━━━━━━━━━━━━━━━━━━━\u001b[0m\u001b[37m\u001b[0m \u001b[1m17s\u001b[0m 32ms/step - accuracy: 0.9500 - loss: 0.1791 - val_accuracy: 0.9429 - val_loss: 0.3896\n",
            "Epoch 24/50\n",
            "\u001b[1m513/513\u001b[0m \u001b[32m━━━━━━━━━━━━━━━━━━━━\u001b[0m\u001b[37m\u001b[0m \u001b[1m17s\u001b[0m 32ms/step - accuracy: 0.9555 - loss: 0.1584 - val_accuracy: 0.9194 - val_loss: 0.4151\n",
            "Epoch 25/50\n",
            "\u001b[1m513/513\u001b[0m \u001b[32m━━━━━━━━━━━━━━━━━━━━\u001b[0m\u001b[37m\u001b[0m \u001b[1m17s\u001b[0m 32ms/step - accuracy: 0.9531 - loss: 0.1704 - val_accuracy: 0.9346 - val_loss: 0.3644\n",
            "Epoch 26/50\n",
            "\u001b[1m513/513\u001b[0m \u001b[32m━━━━━━━━━━━━━━━━━━━━\u001b[0m\u001b[37m\u001b[0m \u001b[1m17s\u001b[0m 32ms/step - accuracy: 0.9523 - loss: 0.1683 - val_accuracy: 0.9410 - val_loss: 0.4181\n",
            "Epoch 27/50\n",
            "\u001b[1m513/513\u001b[0m \u001b[32m━━━━━━━━━━━━━━━━━━━━\u001b[0m\u001b[37m\u001b[0m \u001b[1m17s\u001b[0m 33ms/step - accuracy: 0.9557 - loss: 0.1507 - val_accuracy: 0.9166 - val_loss: 0.6189\n",
            "Epoch 28/50\n",
            "\u001b[1m513/513\u001b[0m \u001b[32m━━━━━━━━━━━━━━━━━━━━\u001b[0m\u001b[37m\u001b[0m \u001b[1m17s\u001b[0m 32ms/step - accuracy: 0.9574 - loss: 0.1495 - val_accuracy: 0.9360 - val_loss: 0.5193\n",
            "Epoch 29/50\n",
            "\u001b[1m513/513\u001b[0m \u001b[32m━━━━━━━━━━━━━━━━━━━━\u001b[0m\u001b[37m\u001b[0m \u001b[1m17s\u001b[0m 32ms/step - accuracy: 0.9573 - loss: 0.1433 - val_accuracy: 0.9260 - val_loss: 0.5161\n",
            "Epoch 30/50\n",
            "\u001b[1m513/513\u001b[0m \u001b[32m━━━━━━━━━━━━━━━━━━━━\u001b[0m\u001b[37m\u001b[0m \u001b[1m17s\u001b[0m 32ms/step - accuracy: 0.9548 - loss: 0.1633 - val_accuracy: 0.9373 - val_loss: 0.4164\n",
            "Epoch 31/50\n",
            "\u001b[1m513/513\u001b[0m \u001b[32m━━━━━━━━━━━━━━━━━━━━\u001b[0m\u001b[37m\u001b[0m \u001b[1m17s\u001b[0m 32ms/step - accuracy: 0.9589 - loss: 0.1451 - val_accuracy: 0.9370 - val_loss: 0.3379\n",
            "Epoch 32/50\n",
            "\u001b[1m513/513\u001b[0m \u001b[32m━━━━━━━━━━━━━━━━━━━━\u001b[0m\u001b[37m\u001b[0m \u001b[1m17s\u001b[0m 32ms/step - accuracy: 0.9579 - loss: 0.1430 - val_accuracy: 0.9068 - val_loss: 0.4455\n",
            "Epoch 33/50\n",
            "\u001b[1m513/513\u001b[0m \u001b[32m━━━━━━━━━━━━━━━━━━━━\u001b[0m\u001b[37m\u001b[0m \u001b[1m21s\u001b[0m 32ms/step - accuracy: 0.9586 - loss: 0.1366 - val_accuracy: 0.9350 - val_loss: 0.3859\n",
            "Epoch 34/50\n",
            "\u001b[1m513/513\u001b[0m \u001b[32m━━━━━━━━━━━━━━━━━━━━\u001b[0m\u001b[37m\u001b[0m \u001b[1m17s\u001b[0m 32ms/step - accuracy: 0.9601 - loss: 0.1309 - val_accuracy: 0.9288 - val_loss: 0.4636\n",
            "Epoch 35/50\n",
            "\u001b[1m513/513\u001b[0m \u001b[32m━━━━━━━━━━━━━━━━━━━━\u001b[0m\u001b[37m\u001b[0m \u001b[1m17s\u001b[0m 32ms/step - accuracy: 0.9598 - loss: 0.1441 - val_accuracy: 0.9390 - val_loss: 0.4027\n",
            "Epoch 36/50\n",
            "\u001b[1m513/513\u001b[0m \u001b[32m━━━━━━━━━━━━━━━━━━━━\u001b[0m\u001b[37m\u001b[0m \u001b[1m17s\u001b[0m 32ms/step - accuracy: 0.9632 - loss: 0.1169 - val_accuracy: 0.9351 - val_loss: 0.4690\n",
            "Epoch 37/50\n",
            "\u001b[1m513/513\u001b[0m \u001b[32m━━━━━━━━━━━━━━━━━━━━\u001b[0m\u001b[37m\u001b[0m \u001b[1m17s\u001b[0m 33ms/step - accuracy: 0.9646 - loss: 0.1194 - val_accuracy: 0.9435 - val_loss: 0.5008\n",
            "Epoch 38/50\n",
            "\u001b[1m513/513\u001b[0m \u001b[32m━━━━━━━━━━━━━━━━━━━━\u001b[0m\u001b[37m\u001b[0m \u001b[1m17s\u001b[0m 32ms/step - accuracy: 0.9630 - loss: 0.1287 - val_accuracy: 0.9437 - val_loss: 0.4371\n",
            "Epoch 39/50\n",
            "\u001b[1m513/513\u001b[0m \u001b[32m━━━━━━━━━━━━━━━━━━━━\u001b[0m\u001b[37m\u001b[0m \u001b[1m17s\u001b[0m 32ms/step - accuracy: 0.9643 - loss: 0.1198 - val_accuracy: 0.9414 - val_loss: 0.5197\n",
            "Epoch 40/50\n",
            "\u001b[1m513/513\u001b[0m \u001b[32m━━━━━━━━━━━━━━━━━━━━\u001b[0m\u001b[37m\u001b[0m \u001b[1m17s\u001b[0m 33ms/step - accuracy: 0.9648 - loss: 0.1179 - val_accuracy: 0.9379 - val_loss: 0.4170\n",
            "Epoch 41/50\n",
            "\u001b[1m513/513\u001b[0m \u001b[32m━━━━━━━━━━━━━━━━━━━━\u001b[0m\u001b[37m\u001b[0m \u001b[1m17s\u001b[0m 33ms/step - accuracy: 0.9653 - loss: 0.1147 - val_accuracy: 0.9328 - val_loss: 0.4638\n",
            "Epoch 42/50\n",
            "\u001b[1m513/513\u001b[0m \u001b[32m━━━━━━━━━━━━━━━━━━━━\u001b[0m\u001b[37m\u001b[0m \u001b[1m17s\u001b[0m 33ms/step - accuracy: 0.9656 - loss: 0.1068 - val_accuracy: 0.9444 - val_loss: 0.4512\n",
            "Epoch 43/50\n",
            "\u001b[1m513/513\u001b[0m \u001b[32m━━━━━━━━━━━━━━━━━━━━\u001b[0m\u001b[37m\u001b[0m \u001b[1m17s\u001b[0m 33ms/step - accuracy: 0.9669 - loss: 0.1047 - val_accuracy: 0.9463 - val_loss: 0.4572\n",
            "Epoch 44/50\n",
            "\u001b[1m513/513\u001b[0m \u001b[32m━━━━━━━━━━━━━━━━━━━━\u001b[0m\u001b[37m\u001b[0m \u001b[1m17s\u001b[0m 32ms/step - accuracy: 0.9662 - loss: 0.1170 - val_accuracy: 0.9225 - val_loss: 0.4439\n",
            "Epoch 45/50\n",
            "\u001b[1m513/513\u001b[0m \u001b[32m━━━━━━━━━━━━━━━━━━━━\u001b[0m\u001b[37m\u001b[0m \u001b[1m17s\u001b[0m 33ms/step - accuracy: 0.9683 - loss: 0.1081 - val_accuracy: 0.9473 - val_loss: 0.5682\n",
            "Epoch 46/50\n",
            "\u001b[1m513/513\u001b[0m \u001b[32m━━━━━━━━━━━━━━━━━━━━\u001b[0m\u001b[37m\u001b[0m \u001b[1m17s\u001b[0m 32ms/step - accuracy: 0.9697 - loss: 0.0967 - val_accuracy: 0.9437 - val_loss: 0.4281\n",
            "Epoch 47/50\n",
            "\u001b[1m513/513\u001b[0m \u001b[32m━━━━━━━━━━━━━━━━━━━━\u001b[0m\u001b[37m\u001b[0m \u001b[1m17s\u001b[0m 32ms/step - accuracy: 0.9679 - loss: 0.0996 - val_accuracy: 0.9327 - val_loss: 0.5915\n",
            "Epoch 48/50\n",
            "\u001b[1m513/513\u001b[0m \u001b[32m━━━━━━━━━━━━━━━━━━━━\u001b[0m\u001b[37m\u001b[0m \u001b[1m17s\u001b[0m 32ms/step - accuracy: 0.9677 - loss: 0.1042 - val_accuracy: 0.9509 - val_loss: 0.5166\n",
            "Epoch 49/50\n",
            "\u001b[1m513/513\u001b[0m \u001b[32m━━━━━━━━━━━━━━━━━━━━\u001b[0m\u001b[37m\u001b[0m \u001b[1m17s\u001b[0m 32ms/step - accuracy: 0.9719 - loss: 0.0926 - val_accuracy: 0.9179 - val_loss: 0.5353\n",
            "Epoch 50/50\n",
            "\u001b[1m513/513\u001b[0m \u001b[32m━━━━━━━━━━━━━━━━━━━━\u001b[0m\u001b[37m\u001b[0m \u001b[1m17s\u001b[0m 32ms/step - accuracy: 0.9691 - loss: 0.1059 - val_accuracy: 0.9480 - val_loss: 0.4004\n",
            "\n",
            "Test Accuracy: 0.9480\n",
            "Test Loss: 0.1840\n",
            "\n",
            "Per-class Metrics:\n",
            "Wake: Precision=0.9976, Recall=0.9790, F1=0.9882\n",
            "N1: Precision=0.4533, Recall=0.8655, F1=0.5950\n",
            "N2: Precision=0.9261, Recall=0.8749, F1=0.8998\n",
            "N3: Precision=0.8847, Recall=0.8995, F1=0.8921\n",
            "REM: Precision=0.8391, Recall=0.8686, F1=0.8536\n"
          ]
        }
      ]
    }
  ]
}